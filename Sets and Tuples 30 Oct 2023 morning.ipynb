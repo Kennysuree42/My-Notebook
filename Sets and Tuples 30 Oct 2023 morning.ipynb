{
 "cells": [
  {
   "cell_type": "markdown",
   "id": "78b10b9c",
   "metadata": {},
   "source": [
    "# Set\n",
    "Sets are used to store multiple items in a single variable.\n",
    "\n",
    "A set is a collection which is unordered, unchangeable*, and unindexed.\n",
    "\n",
    "Set items are unordered, unchangeable, and do not allow duplicate values.\n",
    "\n",
    "Unordered Unordered means that the items in a set do not have a defined order.\n",
    "\n",
    "Set items can appear in a different order every time you use them, and cannot be referred to by index or key.\n",
    "\n",
    "Unchangeable Set items are unchangeable, meaning that we cannot change the items after the set has been created.\n",
    "\n",
    "Once a set is created, you cannot change its items, but you can remove items and add new items.\n",
    "\n",
    "#engineers = Set(['John', 'Jane', 'Jack', 'Janice']) programmers = Set(['Jack', 'Sam', 'Susan', 'Janice']) managers = Set(['Jane', 'Jack', 'Susan', 'Zack']) employees = engineers | programmers | managers # union engineering_management = engineers & managers # intersection fulltime_management = managers - engineers - programmers # difference engineers.add('Marvin') # add element print engineers Set(['Jane', 'Marvin', 'Janice', 'John', 'Jack']) employees.issuperset(engineers) # superset test False employees.update(engineers) # update from another set employees.issuperset(engineers) True for group in [engineers, programmers, managers, employees]: group.discard('Susan') # unconditionally remove element print group Set(['Jane', 'Marvin', 'Janice', 'John', 'Jack']) Set(['Janice', 'Jack', 'Sam']) Set(['Jane', 'Zack', 'Jack']) Set(['Jack', 'Sam', 'Jane', 'Marvin', 'Janice', 'John', 'Zack'])"
   ]
  },
  {
   "cell_type": "code",
   "execution_count": null,
   "id": "f7fc22a8",
   "metadata": {},
   "outputs": [],
   "source": [
    "list = []\n",
    "tuples = ()\n",
    "set = {}\n",
    "dict = {key: Value}\n"
   ]
  },
  {
   "cell_type": "code",
   "execution_count": 27,
   "id": "4c19d353",
   "metadata": {},
   "outputs": [
    {
     "name": "stdout",
     "output_type": "stream",
     "text": [
      "{'apple', 'g', 'banana', 'pineapple', 'grape'}\n"
     ]
    }
   ],
   "source": [
    "myset = {'apple','pineapple','banana','grape','g'} # declaring variable into the set datatype by typing {}\n",
    "\n",
    "print (myset)"
   ]
  },
  {
   "cell_type": "markdown",
   "id": "a5724066",
   "metadata": {},
   "source": [
    "# Using the set constructor"
   ]
  },
  {
   "cell_type": "code",
   "execution_count": 35,
   "id": "0bb27b92",
   "metadata": {},
   "outputs": [
    {
     "name": "stdout",
     "output_type": "stream",
     "text": [
      "<class 'set'>\n"
     ]
    },
    {
     "data": {
      "text/plain": [
       "{'', 'apple', 'cherry', 'mangoes', 'pinapple'}"
      ]
     },
     "execution_count": 35,
     "metadata": {},
     "output_type": "execute_result"
    }
   ],
   "source": [
    "myset = set(['','cherry','mangoes','apple','mangoes','apple','pinapple'])\n",
    "print(type(myset))\n",
    "myset"
   ]
  },
  {
   "cell_type": "code",
   "execution_count": 49,
   "id": "ed160aeb",
   "metadata": {},
   "outputs": [
    {
     "name": "stdout",
     "output_type": "stream",
     "text": [
      "{'b', 'c', 'a', 'e', 'd'}\n",
      "{1.2, 1.4, 1.9, 1.5}\n",
      "{False, True}\n",
      "{1, 2, 3, 4, 5, 6, 7}\n"
     ]
    }
   ],
   "source": [
    "set1 = {'a','b','c','d','e'}\n",
    "set2 = {1.2,1.4,1.5,1.9}\n",
    "set3 = {True,True,True,True,False,False}\n",
    "set4 = {1,1,2,3,4,5,6,7,7}\n",
    "\n",
    "print(set1)\n",
    "print(set2)\n",
    "print(set3)\n",
    "print(set4)"
   ]
  },
  {
   "cell_type": "markdown",
   "id": "0c0662e3",
   "metadata": {},
   "source": [
    "# Accessing the sets"
   ]
  },
  {
   "cell_type": "code",
   "execution_count": 56,
   "id": "2783d246",
   "metadata": {},
   "outputs": [
    {
     "name": "stdout",
     "output_type": "stream",
     "text": [
      "blueberry\n",
      "apple\n",
      "grape\n"
     ]
    }
   ],
   "source": [
    "set1 = {'apple','blueberry','grape'}\n",
    "for v in set1:\n",
    "    print (v)"
   ]
  },
  {
   "cell_type": "code",
   "execution_count": 62,
   "id": "4acf949c",
   "metadata": {},
   "outputs": [
    {
     "name": "stdout",
     "output_type": "stream",
     "text": [
      "False\n"
     ]
    }
   ],
   "source": [
    "setk = {'banana','berry','roseberry'}\n",
    "print('fruit' in setk)"
   ]
  },
  {
   "cell_type": "markdown",
   "id": "bb1159ec",
   "metadata": {},
   "source": [
    "# Once a set is created, you cannot change its items, but you can add new items."
   ]
  },
  {
   "cell_type": "code",
   "execution_count": 77,
   "id": "28b9fbdc",
   "metadata": {},
   "outputs": [
    {
     "name": "stdout",
     "output_type": "stream",
     "text": [
      "{'banana', 'orange', 'apple', 'jackfruit'}\n"
     ]
    }
   ],
   "source": [
    "# adding the elements into the set\n",
    "set1 = {'apple','jackfruit','orange'}\n",
    "set1.add('banana')\n",
    "print((set1))"
   ]
  },
  {
   "cell_type": "code",
   "execution_count": 84,
   "id": "efd0123e",
   "metadata": {},
   "outputs": [
    {
     "name": "stdout",
     "output_type": "stream",
     "text": [
      "{'asia', 'africa', 'mangoes', 'banana', 'europe', 'grape'}\n",
      "{'asia', 'europe', 'africa'}\n"
     ]
    }
   ],
   "source": [
    "set1 = {'grape','banana','mangoes'}\n",
    "set2 = {'asia','africa','europe'}\n",
    "set1.update(set2)                         #update set\n",
    "print(set1)\n",
    "print(set2)"
   ]
  },
  {
   "cell_type": "code",
   "execution_count": 130,
   "id": "aa6b3994",
   "metadata": {},
   "outputs": [
    {
     "name": "stdout",
     "output_type": "stream",
     "text": [
      "{'mangoes', 'banana'}\n",
      "{'raspberry', 'mangoes', 'banana'}\n",
      "{'i', 'banana', 'w', 'e', 'raspberry', 'k', 'mangoes'}\n"
     ]
    }
   ],
   "source": [
    "set1 = {'grape','banana','mangoes'}\n",
    "set1.remove('grape')                # remove\n",
    "print(set1)\n",
    "\n",
    "set1.add('raspberry')\n",
    "print(set1)\n",
    "\n",
    "set1.update('kiwe')\n",
    "print(set1)"
   ]
  },
  {
   "cell_type": "code",
   "execution_count": 121,
   "id": "fadc04e4",
   "metadata": {},
   "outputs": [
    {
     "name": "stdout",
     "output_type": "stream",
     "text": [
      "{1, 2, 3, 4}\n"
     ]
    }
   ],
   "source": [
    "set1 = {1,2,3}\n",
    "set1.add(4)\n",
    "print(set1)"
   ]
  },
  {
   "cell_type": "code",
   "execution_count": 127,
   "id": "0d5af25a",
   "metadata": {},
   "outputs": [
    {
     "name": "stdout",
     "output_type": "stream",
     "text": [
      "{1, 3, 4, 'l'}\n",
      "{1, 3, 4, 'g', 'l'}\n"
     ]
    }
   ],
   "source": [
    "set1={1,3,4}\n",
    "set1.add('l')\n",
    "print(set1)\n",
    "set1.update('g')\n",
    "print(set1)"
   ]
  },
  {
   "cell_type": "code",
   "execution_count": 95,
   "id": "e4b6b814",
   "metadata": {},
   "outputs": [
    {
     "name": "stdout",
     "output_type": "stream",
     "text": [
      "{'cherry', 'berry'}\n"
     ]
    }
   ],
   "source": [
    "# Note: If the item to remove does not exist, discard() will NOT raise an error.\n",
    "set1 = {'apple','berry','cherry'}\n",
    "set1.discard('apple')\n",
    "print(set1)"
   ]
  },
  {
   "cell_type": "code",
   "execution_count": null,
   "id": "534898c1",
   "metadata": {},
   "outputs": [],
   "source": [
    "# you can also use the pop() method to remove an item, but this method will remove a random item, so you cannot be sure what item that gets removed.\n",
    "\n",
    "# The return value of the pop() method is the removed item."
   ]
  },
  {
   "cell_type": "code",
   "execution_count": 100,
   "id": "61803d69",
   "metadata": {},
   "outputs": [
    {
     "name": "stdout",
     "output_type": "stream",
     "text": [
      "{2, 3}\n"
     ]
    }
   ],
   "source": [
    "set1 = {1,2,3}\n",
    "set1.pop()                 # Pop\n",
    "print(set1)"
   ]
  },
  {
   "cell_type": "code",
   "execution_count": 103,
   "id": "20a2a093",
   "metadata": {},
   "outputs": [
    {
     "name": "stdout",
     "output_type": "stream",
     "text": [
      "set()\n"
     ]
    }
   ],
   "source": [
    "set1 = {'berry','cherry','cherry'}\n",
    "set1.clear()             #clear\n",
    "print(set1)"
   ]
  },
  {
   "cell_type": "code",
   "execution_count": 104,
   "id": "7b84b3df",
   "metadata": {},
   "outputs": [
    {
     "ename": "NameError",
     "evalue": "name 'set1' is not defined",
     "output_type": "error",
     "traceback": [
      "\u001b[1;31m---------------------------------------------------------------------------\u001b[0m",
      "\u001b[1;31mNameError\u001b[0m                                 Traceback (most recent call last)",
      "Cell \u001b[1;32mIn[104], line 3\u001b[0m\n\u001b[0;32m      1\u001b[0m set1 \u001b[38;5;241m=\u001b[39m {\u001b[38;5;124m'\u001b[39m\u001b[38;5;124mdragonfruit\u001b[39m\u001b[38;5;124m'\u001b[39m,\u001b[38;5;124m'\u001b[39m\u001b[38;5;124mcherry\u001b[39m\u001b[38;5;124m'\u001b[39m,\u001b[38;5;124m'\u001b[39m\u001b[38;5;124mcarrot\u001b[39m\u001b[38;5;124m'\u001b[39m}\n\u001b[0;32m      2\u001b[0m \u001b[38;5;28;01mdel\u001b[39;00m set1\n\u001b[1;32m----> 3\u001b[0m \u001b[38;5;28mprint\u001b[39m (\u001b[43mset1\u001b[49m)\n",
      "\u001b[1;31mNameError\u001b[0m: name 'set1' is not defined"
     ]
    }
   ],
   "source": [
    "set1 = {'dragonfruit','cherry','carrot'}\n",
    "del set1\n",
    "print (set1)"
   ]
  },
  {
   "cell_type": "code",
   "execution_count": 105,
   "id": "f26cc5e8",
   "metadata": {},
   "outputs": [],
   "source": [
    "# Join"
   ]
  },
  {
   "cell_type": "code",
   "execution_count": 135,
   "id": "1eadc663",
   "metadata": {
    "scrolled": true
   },
   "outputs": [
    {
     "name": "stdout",
     "output_type": "stream",
     "text": [
      "{'3', 'banana', 'guava', 'berry', '2', 'apple', 'mango', '1', 'cherry'}\n",
      "{'cherry', 'apple', 'mango'}\n",
      "{'guava', 'banana', 'berry'}\n",
      "{'3', '2', '1'}\n"
     ]
    }
   ],
   "source": [
    "set1 = {'apple','cherry','mango'}\n",
    "set2 = {'berry','guava','banana'}\n",
    "set3 = {'1','2','3'}\n",
    "set4 = set1.union(set2,set3)\n",
    "print(set4)\n",
    "print(set1)\n",
    "print(set2)\n",
    "print(set3)"
   ]
  },
  {
   "cell_type": "code",
   "execution_count": 119,
   "id": "7b195746",
   "metadata": {},
   "outputs": [
    {
     "name": "stdout",
     "output_type": "stream",
     "text": [
      "{'banana', 'google'}\n"
     ]
    }
   ],
   "source": [
    "# The intersection_update() method will keep only the items that are present in both sets.\n",
    "x = {\"google\", \"banana\", \"cherry\"}\n",
    "y = {\"google\", \"banana\", \"apple\"}\n",
    "w = {\"banana\",\"blueberry\",\"google\"}\n",
    "\n",
    "h = x.intersection(y,w)\n",
    "\n",
    "print(h)"
   ]
  },
  {
   "cell_type": "code",
   "execution_count": 131,
   "id": "28ffc7cf",
   "metadata": {},
   "outputs": [
    {
     "name": "stdout",
     "output_type": "stream",
     "text": [
      "{'microsoft', 'banana', 'cherry', 'google'}\n"
     ]
    }
   ],
   "source": [
    "## The symmetric_difference_update() method will keep only the elements that are NOT present in both sets.\n",
    "\n",
    "xx = {\"apple\", \"banana\", \"cherry\"}\n",
    "yy = {\"google\", \"microsoft\", \"apple\"}\n",
    "\n",
    "xx.symmetric_difference_update(yy)\n",
    "\n",
    "print(xx)"
   ]
  },
  {
   "cell_type": "markdown",
   "id": "68655a4b",
   "metadata": {},
   "source": [
    "# - Method Description:\n",
    " \n",
    " \n",
    " - add() Adds an element to the set \n",
    " \n",
    "\n",
    " - clear() Removes all the elements from the set \n",
    " \n",
    " \n",
    " - copy() Returns a copy of the set \n",
    " \n",
    " \n",
    " - difference() Returns a set containing the difference between two or more sets \n",
    " \n",
    " \n",
    " - difference_update() Removes the items in this set that are also included in another, specified set \n",
    " \n",
    " \n",
    " - discard() Remove the specified item \n",
    " \n",
    " \n",
    " - intersection() Returns a set, that is the intersection of two other sets \n",
    " \n",
    " \n",
    " - intersection_update() Removes the items in this set that are not present in other, specified set(s)\n",
    " \n",
    " \n",
    " - isdisjoint() Returns whether two sets have a intersection or not \n",
    " \n",
    " \n",
    " - issubset() Returns whether another set contains this set or not \n",
    " \n",
    " \n",
    " - issuperset() Returns whether this set contains another set or not \n",
    " \n",
    " \n",
    " - pop() Removes an element from the set \n",
    " \n",
    " \n",
    " - remove() Removes the specified element \n",
    " \n",
    " \n",
    " - symmetric_difference() Returns a set with the symmetric differences of two sets \n",
    " \n",
    " \n",
    " - symmetric_difference_update() inserts the symmetric differences from this set and another \n",
    " \n",
    " \n",
    " - union() Return a set containing the union of sets \n",
    " \n",
    " \n",
    " - update() Update the set with the union of this set and others"
   ]
  },
  {
   "cell_type": "markdown",
   "id": "094c69b0",
   "metadata": {},
   "source": [
    "# Tuple\n",
    "Tuples are used to store multiple items in a single variable.\n",
    "\n",
    "A tuple is a collection which is ordered and unchangeable.\n",
    "\n",
    "Tuples are written with round brackets.\n",
    "\n",
    "Ordered When we say that tuples are ordered, it means that the items have a defined order, and that order will not change.\n",
    "\n",
    "Unchangeable Tuples are unchangeable, meaning that we cannot change, add or remove items after the tuple has been created.\n",
    "\n",
    "Allow Duplicates Since tuples are indexed, they can have items with the same value:"
   ]
  },
  {
   "cell_type": "code",
   "execution_count": 163,
   "id": "e0ab49ed",
   "metadata": {},
   "outputs": [
    {
     "name": "stdout",
     "output_type": "stream",
     "text": [
      "('apple', 'berry', 'cherry', 'pineapple')\n"
     ]
    }
   ],
   "source": [
    "tuple1 = ('apple','berry','cherry','pineapple')\n",
    "print(tuple1)"
   ]
  },
  {
   "cell_type": "code",
   "execution_count": 146,
   "id": "7e8bdc4a",
   "metadata": {},
   "outputs": [],
   "source": [
    "#Access the elements in the tuple"
   ]
  },
  {
   "cell_type": "code",
   "execution_count": 167,
   "id": "2e217150",
   "metadata": {},
   "outputs": [
    {
     "name": "stdout",
     "output_type": "stream",
     "text": [
      "berry\n",
      "('apple', 'berry', 'cherry')\n",
      "('apple', 'berry', 'cherry')\n"
     ]
    }
   ],
   "source": [
    "print(tuple1[1])\n",
    "print(tuple1[:3])\n",
    "print(tuple1[:-1])"
   ]
  },
  {
   "cell_type": "code",
   "execution_count": 168,
   "id": "83e0cd7f",
   "metadata": {},
   "outputs": [
    {
     "name": "stdout",
     "output_type": "stream",
     "text": [
      "<class 'list'>\n",
      "('apple', 'kiwe')\n"
     ]
    }
   ],
   "source": [
    "x = (\"apple\",\"cherry\")\n",
    "y = list(x)\n",
    "print(type(y))\n",
    "y[1] = 'kiwe'\n",
    "x = tuple(y)\n",
    "print (x)"
   ]
  },
  {
   "cell_type": "code",
   "execution_count": null,
   "id": "d9f883ba",
   "metadata": {},
   "outputs": [],
   "source": []
  }
 ],
 "metadata": {
  "kernelspec": {
   "display_name": "Python 3 (ipykernel)",
   "language": "python",
   "name": "python3"
  },
  "language_info": {
   "codemirror_mode": {
    "name": "ipython",
    "version": 3
   },
   "file_extension": ".py",
   "mimetype": "text/x-python",
   "name": "python",
   "nbconvert_exporter": "python",
   "pygments_lexer": "ipython3",
   "version": "3.10.9"
  }
 },
 "nbformat": 4,
 "nbformat_minor": 5
}
