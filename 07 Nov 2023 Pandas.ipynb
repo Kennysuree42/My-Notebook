{
 "cells": [
  {
   "cell_type": "code",
   "execution_count": null,
   "id": "5c07788e",
   "metadata": {},
   "outputs": [],
   "source": [
    "Pandas?\n",
    "Pandas is a Python library used for working with data sets.\n",
    "\n",
    "It has functions for analyzing, cleaning, exploring, and manipulating data.\n",
    "\n",
    "The name \"Pandas\" has a reference to both \"Panel Data\", and \"Python Data Analysis\"\n",
    "\n",
    "Why Use Pandas? Pandas allows us to analyze big data and make conclusions based on statistical theories.\n",
    "\n",
    "Pandas can clean messy data sets, and make them readable and relevant.\n",
    "\n",
    "Relevant data is very important in data science."
   ]
  },
  {
   "cell_type": "code",
   "execution_count": null,
   "id": "069a6737",
   "metadata": {},
   "outputs": [],
   "source": [
    "What Can Pandas Do?\n",
    "Pandas gives you answers about the data. Like:\n",
    "\n",
    "Is there a correlation between two or more columns?\n",
    "What is average value?\n",
    "Max value?\n",
    "Min value?\n",
    "Pandas are also able to delete rows that are not relevant, or contains wrong values, lik"
   ]
  },
  {
   "cell_type": "code",
   "execution_count": null,
   "id": "9891b7b0",
   "metadata": {},
   "outputs": [],
   "source": [
    "pip install pandas"
   ]
  },
  {
   "cell_type": "code",
   "execution_count": 1,
   "id": "2a24ce69",
   "metadata": {},
   "outputs": [],
   "source": [
    "# PIP"
   ]
  },
  {
   "cell_type": "code",
   "execution_count": 11,
   "id": "602cb0f2",
   "metadata": {},
   "outputs": [
    {
     "name": "stdout",
     "output_type": "stream",
     "text": [
      "   teams  point_table\n",
      "0  india           18\n",
      "1    pak           10\n",
      "2    aus           12\n"
     ]
    }
   ],
   "source": [
    "import pandas as pn\n",
    "my_data = {\n",
    "    'teams':('india','pak','aus'),\n",
    "    'point_table': (18, 10, 12)\n",
    "}\n",
    "my_team = pn.DataFrame(my_data)\n",
    "print(my_team)"
   ]
  },
  {
   "cell_type": "code",
   "execution_count": 15,
   "id": "17c76b85",
   "metadata": {},
   "outputs": [
    {
     "name": "stdout",
     "output_type": "stream",
     "text": [
      "  batsmen  bowler\n",
      "0   virat  bumrah\n",
      "1  sachin  bumrah\n",
      "2   rohit  bumrah\n"
     ]
    }
   ],
   "source": [
    "my_data = { 'batsmen':['virat','sachin','rohit'],\n",
    "           'bowler': ('bumrah')\n",
    "          }\n",
    "team_players = pn.DataFrame(my_data)\n",
    "print(team_players)"
   ]
  },
  {
   "cell_type": "code",
   "execution_count": 7,
   "id": "bc92d261",
   "metadata": {},
   "outputs": [
    {
     "name": "stdout",
     "output_type": "stream",
     "text": [
      "1.5.3\n"
     ]
    }
   ],
   "source": [
    "print(panda1.__version__)"
   ]
  },
  {
   "cell_type": "code",
   "execution_count": 9,
   "id": "5104a577",
   "metadata": {},
   "outputs": [
    {
     "name": "stdout",
     "output_type": "stream",
     "text": [
      "   teams  point_table\n",
      "0  india           18\n",
      "1    pak           10\n",
      "2    aus           12\n"
     ]
    }
   ],
   "source": [
    "import pandas as panda2\n",
    "my_team = panda2.DataFrame(my_data)\n",
    "print(my_team)"
   ]
  },
  {
   "cell_type": "markdown",
   "id": "c741fa3d",
   "metadata": {},
   "source": [
    "# - Series\n",
    " - What is a Series? A Pandas Series is like a column in a table.\n",
    " - S should be in caps\n",
    " - It is a one-dimensional array holding data of any type."
   ]
  },
  {
   "cell_type": "code",
   "execution_count": 22,
   "id": "af99e9e6",
   "metadata": {},
   "outputs": [
    {
     "name": "stdout",
     "output_type": "stream",
     "text": [
      "0          kane\n",
      "1          True\n",
      "2    williamson\n",
      "3            45\n",
      "4         62.72\n",
      "dtype: object\n"
     ]
    }
   ],
   "source": [
    "\n",
    "# 1 == ['kane',True,'williamson',45,62.72]\n",
    "cc = ['kane',True,'williamson',45,62.72]\n",
    "avg_kane = pn.Series(cc)\n",
    "print(avg_kane)"
   ]
  },
  {
   "cell_type": "markdown",
   "id": "1a459db7",
   "metadata": {},
   "source": [
    "# - Labels\n",
    "  \n",
    " - If nothing else is specified, the values are labeled with their \n",
    "    index number.\n",
    " - First value has index 0, second value has index 1 etc.\n",
    " - This label can be used to access a specified value."
   ]
  },
  {
   "cell_type": "code",
   "execution_count": 27,
   "id": "31c7613f",
   "metadata": {},
   "outputs": [
    {
     "name": "stdout",
     "output_type": "stream",
     "text": [
      "k    (2+3j)\n",
      "l    0.024j\n",
      "m         0\n",
      "n      True\n",
      "dtype: object\n"
     ]
    }
   ],
   "source": [
    "bat = (2+3j,0.024j,0,True)\n",
    "my_bat = pn.Series(bat, index =['k','l','m','n'] )\n",
    "print(my_bat)"
   ]
  },
  {
   "cell_type": "code",
   "execution_count": 29,
   "id": "fc0dda69",
   "metadata": {},
   "outputs": [],
   "source": [
    "?pn.Series"
   ]
  },
  {
   "cell_type": "markdown",
   "id": "a017be86",
   "metadata": {},
   "source": [
    "# Key/Values Objects as Series"
   ]
  },
  {
   "cell_type": "code",
   "execution_count": 44,
   "id": "ec32cd23",
   "metadata": {},
   "outputs": [
    {
     "name": "stdout",
     "output_type": "stream",
     "text": [
      "nov1     23.0 kms\n",
      "nov2     10.0 kms\n",
      "____    12.25 kms\n",
      "nov4          6.0\n",
      "dtype: object\n"
     ]
    }
   ],
   "source": [
    "import pandas as pn\n",
    "\n",
    "jogg = {\n",
    "    'nov1':'23.0 kms',\n",
    "    'nov2': '10.0 kms',\n",
    "    '____': '12.25 kms',\n",
    "    'nov4': 12/2 \n",
    "}\n",
    "my_jogg = pn.Series(jogg)\n",
    "print(my_jogg)"
   ]
  },
  {
   "cell_type": "code",
   "execution_count": 58,
   "id": "17a5d147",
   "metadata": {},
   "outputs": [
    {
     "name": "stdout",
     "output_type": "stream",
     "text": [
      "{'Person1': {'House_number': 1, 'Colony': 'Grape street'}, 'Person2': {'House_number': 33, 'Colony': 'Freds street'}, 'Person3': {'House_number': 21, 'Colony': 'Wall street'}, 'Person4': {'House_number': 23}}\n",
      "33\n",
      "Wall street\n",
      "{'House_number': 1, 'Colony': 'Grape street'}\n"
     ]
    }
   ],
   "source": [
    "dictB = {'Person1':{'House_number':1,'Colony':'Grape street'},\n",
    "         'Person2':{'House_number':33,'Colony':'Freds street'},\n",
    "         'Person3':{'House_number':21,'Colony':'Wall street'}}\n",
    "\n",
    "dictB['Person4'] = {'House_number':23}\n",
    "\n",
    "print(dictB)\n",
    "my_dict2 = pn.Series(dictB)\n",
    "print(my_dict2['Person2']['House_number'])\n",
    "print(my_dict2['Person3']['Colony'])\n",
    "\n",
    "print(my_dict2['Person1'])"
   ]
  },
  {
   "cell_type": "markdown",
   "id": "41631f35",
   "metadata": {},
   "source": [
    "# - DataFrames\n",
    " - Data sets in Pandas are usually multi-dimensional tables,           - called DataFrames.\n",
    "\n",
    " - Series is like a column, a DataFrame is the whole table."
   ]
  },
  {
   "cell_type": "code",
   "execution_count": 75,
   "id": "c5a209e3",
   "metadata": {},
   "outputs": [
    {
     "ename": "AttributeError",
     "evalue": "module 'pandas' has no attribute 'DataFrames'",
     "output_type": "error",
     "traceback": [
      "\u001b[1;31m---------------------------------------------------------------------------\u001b[0m",
      "\u001b[1;31mAttributeError\u001b[0m                            Traceback (most recent call last)",
      "Cell \u001b[1;32mIn[75], line 7\u001b[0m\n\u001b[0;32m      1\u001b[0m details \u001b[38;5;241m=\u001b[39m {\n\u001b[0;32m      2\u001b[0m     \u001b[38;5;124m\"\u001b[39m\u001b[38;5;124mone\u001b[39m\u001b[38;5;124m\"\u001b[39m: pn\u001b[38;5;241m.\u001b[39mSeries([\u001b[38;5;241m1.0\u001b[39m, \u001b[38;5;241m2.0\u001b[39m, \u001b[38;5;241m3.0\u001b[39m], index\u001b[38;5;241m=\u001b[39m[\u001b[38;5;124m\"\u001b[39m\u001b[38;5;124ma\u001b[39m\u001b[38;5;124m\"\u001b[39m, \u001b[38;5;124m\"\u001b[39m\u001b[38;5;124mb\u001b[39m\u001b[38;5;124m\"\u001b[39m, \u001b[38;5;124m\"\u001b[39m\u001b[38;5;124mc\u001b[39m\u001b[38;5;124m\"\u001b[39m]),\n\u001b[0;32m      3\u001b[0m     \u001b[38;5;124m\"\u001b[39m\u001b[38;5;124mtwo\u001b[39m\u001b[38;5;124m\"\u001b[39m: pn\u001b[38;5;241m.\u001b[39mSeries([\u001b[38;5;241m1.0\u001b[39m, \u001b[38;5;241m2.0\u001b[39m, \u001b[38;5;241m3.0\u001b[39m, \u001b[38;5;241m4.0\u001b[39m], \n\u001b[0;32m      4\u001b[0m                      index\u001b[38;5;241m=\u001b[39m[\u001b[38;5;124m\"\u001b[39m\u001b[38;5;124ma\u001b[39m\u001b[38;5;124m\"\u001b[39m, \u001b[38;5;124m\"\u001b[39m\u001b[38;5;124mb\u001b[39m\u001b[38;5;124m\"\u001b[39m, \u001b[38;5;124m\"\u001b[39m\u001b[38;5;124mc\u001b[39m\u001b[38;5;124m\"\u001b[39m, \u001b[38;5;124m\"\u001b[39m\u001b[38;5;124md\u001b[39m\u001b[38;5;124m\"\u001b[39m])\n\u001b[0;32m      5\u001b[0m }\n\u001b[1;32m----> 7\u001b[0m df1 \u001b[38;5;241m=\u001b[39m \u001b[43mpn\u001b[49m\u001b[38;5;241;43m.\u001b[39;49m\u001b[43mDataFrames\u001b[49m(details) \n\u001b[0;32m      8\u001b[0m \u001b[38;5;28mprint\u001b[39m(df1)\n",
      "File \u001b[1;32m~\\kiran2\\lib\\site-packages\\pandas\\__init__.py:264\u001b[0m, in \u001b[0;36m__getattr__\u001b[1;34m(name)\u001b[0m\n\u001b[0;32m    260\u001b[0m     \u001b[38;5;28;01mfrom\u001b[39;00m \u001b[38;5;21;01mpandas\u001b[39;00m\u001b[38;5;21;01m.\u001b[39;00m\u001b[38;5;21;01mcore\u001b[39;00m\u001b[38;5;21;01m.\u001b[39;00m\u001b[38;5;21;01marrays\u001b[39;00m\u001b[38;5;21;01m.\u001b[39;00m\u001b[38;5;21;01msparse\u001b[39;00m \u001b[38;5;28;01mimport\u001b[39;00m SparseArray \u001b[38;5;28;01mas\u001b[39;00m _SparseArray\n\u001b[0;32m    262\u001b[0m     \u001b[38;5;28;01mreturn\u001b[39;00m _SparseArray\n\u001b[1;32m--> 264\u001b[0m \u001b[38;5;28;01mraise\u001b[39;00m \u001b[38;5;167;01mAttributeError\u001b[39;00m(\u001b[38;5;124mf\u001b[39m\u001b[38;5;124m\"\u001b[39m\u001b[38;5;124mmodule \u001b[39m\u001b[38;5;124m'\u001b[39m\u001b[38;5;124mpandas\u001b[39m\u001b[38;5;124m'\u001b[39m\u001b[38;5;124m has no attribute \u001b[39m\u001b[38;5;124m'\u001b[39m\u001b[38;5;132;01m{\u001b[39;00mname\u001b[38;5;132;01m}\u001b[39;00m\u001b[38;5;124m'\u001b[39m\u001b[38;5;124m\"\u001b[39m)\n",
      "\u001b[1;31mAttributeError\u001b[0m: module 'pandas' has no attribute 'DataFrames'"
     ]
    }
   ],
   "source": [
    "details = {\n",
    "    \"one\": pn.Series([1.0, 2.0, 3.0], index=[\"a\", \"b\", \"c\"]),\n",
    "    \"two\": pn.Series([1.0, 2.0, 3.0, 4.0], \n",
    "                     index=[\"a\", \"b\", \"c\", \"d\"])\n",
    "}\n",
    "\n",
    "df1 = pn.DataFrames(details) \n",
    "print(df1)"
   ]
  },
  {
   "cell_type": "code",
   "execution_count": 72,
   "id": "e36d3007",
   "metadata": {},
   "outputs": [
    {
     "ename": "AttributeError",
     "evalue": "module 'pandas' has no attribute 'DataFrames'",
     "output_type": "error",
     "traceback": [
      "\u001b[1;31m---------------------------------------------------------------------------\u001b[0m",
      "\u001b[1;31mAttributeError\u001b[0m                            Traceback (most recent call last)",
      "Cell \u001b[1;32mIn[72], line 6\u001b[0m\n\u001b[0;32m      1\u001b[0m d \u001b[38;5;241m=\u001b[39m {\n\u001b[0;32m      2\u001b[0m     \u001b[38;5;124m\"\u001b[39m\u001b[38;5;124mone\u001b[39m\u001b[38;5;124m\"\u001b[39m: pn\u001b[38;5;241m.\u001b[39mSeries([\u001b[38;5;241m1.0\u001b[39m, \u001b[38;5;241m2.0\u001b[39m, \u001b[38;5;241m3.0\u001b[39m], index\u001b[38;5;241m=\u001b[39m[\u001b[38;5;124m\"\u001b[39m\u001b[38;5;124ma\u001b[39m\u001b[38;5;124m\"\u001b[39m, \u001b[38;5;124m\"\u001b[39m\u001b[38;5;124mb\u001b[39m\u001b[38;5;124m\"\u001b[39m, \u001b[38;5;124m\"\u001b[39m\u001b[38;5;124mc\u001b[39m\u001b[38;5;124m\"\u001b[39m]),\n\u001b[0;32m      3\u001b[0m     \u001b[38;5;124m\"\u001b[39m\u001b[38;5;124mtwo\u001b[39m\u001b[38;5;124m\"\u001b[39m: pn\u001b[38;5;241m.\u001b[39mSeries([\u001b[38;5;241m1.0\u001b[39m, \u001b[38;5;241m2.0\u001b[39m, \u001b[38;5;241m3.0\u001b[39m, \u001b[38;5;241m4.0\u001b[39m], index\u001b[38;5;241m=\u001b[39m[\u001b[38;5;124m\"\u001b[39m\u001b[38;5;124ma\u001b[39m\u001b[38;5;124m\"\u001b[39m, \u001b[38;5;124m\"\u001b[39m\u001b[38;5;124mb\u001b[39m\u001b[38;5;124m\"\u001b[39m, \u001b[38;5;124m\"\u001b[39m\u001b[38;5;124mc\u001b[39m\u001b[38;5;124m\"\u001b[39m, \u001b[38;5;124m\"\u001b[39m\u001b[38;5;124md\u001b[39m\u001b[38;5;124m\"\u001b[39m]),\n\u001b[0;32m      4\u001b[0m }\n\u001b[1;32m----> 6\u001b[0m df1 \u001b[38;5;241m=\u001b[39m \u001b[43mpn\u001b[49m\u001b[38;5;241;43m.\u001b[39;49m\u001b[43mDataFrames\u001b[49m(d) \n\u001b[0;32m      7\u001b[0m \u001b[38;5;28mprint\u001b[39m(df1)\n\u001b[0;32m      8\u001b[0m dfs \u001b[38;5;241m=\u001b[39m pn\u001b[38;5;241m.\u001b[39mSeries(d)\n",
      "File \u001b[1;32m~\\kiran2\\lib\\site-packages\\pandas\\__init__.py:264\u001b[0m, in \u001b[0;36m__getattr__\u001b[1;34m(name)\u001b[0m\n\u001b[0;32m    260\u001b[0m     \u001b[38;5;28;01mfrom\u001b[39;00m \u001b[38;5;21;01mpandas\u001b[39;00m\u001b[38;5;21;01m.\u001b[39;00m\u001b[38;5;21;01mcore\u001b[39;00m\u001b[38;5;21;01m.\u001b[39;00m\u001b[38;5;21;01marrays\u001b[39;00m\u001b[38;5;21;01m.\u001b[39;00m\u001b[38;5;21;01msparse\u001b[39;00m \u001b[38;5;28;01mimport\u001b[39;00m SparseArray \u001b[38;5;28;01mas\u001b[39;00m _SparseArray\n\u001b[0;32m    262\u001b[0m     \u001b[38;5;28;01mreturn\u001b[39;00m _SparseArray\n\u001b[1;32m--> 264\u001b[0m \u001b[38;5;28;01mraise\u001b[39;00m \u001b[38;5;167;01mAttributeError\u001b[39;00m(\u001b[38;5;124mf\u001b[39m\u001b[38;5;124m\"\u001b[39m\u001b[38;5;124mmodule \u001b[39m\u001b[38;5;124m'\u001b[39m\u001b[38;5;124mpandas\u001b[39m\u001b[38;5;124m'\u001b[39m\u001b[38;5;124m has no attribute \u001b[39m\u001b[38;5;124m'\u001b[39m\u001b[38;5;132;01m{\u001b[39;00mname\u001b[38;5;132;01m}\u001b[39;00m\u001b[38;5;124m'\u001b[39m\u001b[38;5;124m\"\u001b[39m)\n",
      "\u001b[1;31mAttributeError\u001b[0m: module 'pandas' has no attribute 'DataFrames'"
     ]
    }
   ],
   "source": [
    "dfs = pn.Series(d)\n",
    "print(df1)"
   ]
  },
  {
   "cell_type": "code",
   "execution_count": null,
   "id": "7770d72a",
   "metadata": {},
   "outputs": [],
   "source": [
    "df\n",
    "Out[40]: \n",
    "   one  two\n",
    "a  1.0  1.0\n",
    "b  2.0  2.0\n",
    "c  3.0  3.0\n",
    "d  NaN  4.0\n",
    "\n",
    "pd.DataFrame(d, index=[\"d\", \"b\", \"a\"])\n",
    "Out[41]: \n",
    "   one  two\n",
    "d  NaN  4.0\n",
    "b  2.0  2.0\n",
    "a  1.0  1.0\n",
    "\n",
    "pd.DataFrame(d, index=[\"d\", \"b\", \"a\"], columns=[\"two\", \"three\"])\n",
    "Out[42]: \n",
    "   two three\n",
    "d  4.0   NaN\n",
    "b  2.0   NaN\n",
    "a  1.0   NaN\n",
    "The row and column labels can be accessed respectively by accessing the index and columns attributes:\n",
    "\n",
    "Note\n",
    "\n",
    "When a particular set of columns is passed along with a dict of data, the passed columns override the keys in the dict."
   ]
  },
  {
   "cell_type": "code",
   "execution_count": null,
   "id": "3e07b7b2",
   "metadata": {},
   "outputs": [],
   "source": []
  },
  {
   "cell_type": "code",
   "execution_count": null,
   "id": "7a0a8a54",
   "metadata": {},
   "outputs": [],
   "source": []
  },
  {
   "cell_type": "code",
   "execution_count": null,
   "id": "68fe0a1f",
   "metadata": {},
   "outputs": [],
   "source": []
  },
  {
   "cell_type": "code",
   "execution_count": null,
   "id": "e732e7f3",
   "metadata": {},
   "outputs": [],
   "source": []
  },
  {
   "cell_type": "code",
   "execution_count": null,
   "id": "261921a4",
   "metadata": {},
   "outputs": [],
   "source": []
  },
  {
   "cell_type": "code",
   "execution_count": null,
   "id": "fbc64d05",
   "metadata": {},
   "outputs": [],
   "source": []
  },
  {
   "cell_type": "code",
   "execution_count": null,
   "id": "6fd430f4",
   "metadata": {},
   "outputs": [],
   "source": []
  },
  {
   "cell_type": "code",
   "execution_count": null,
   "id": "59031cde",
   "metadata": {},
   "outputs": [],
   "source": []
  },
  {
   "cell_type": "code",
   "execution_count": null,
   "id": "ce12d5e7",
   "metadata": {},
   "outputs": [],
   "source": []
  },
  {
   "cell_type": "code",
   "execution_count": null,
   "id": "9b052fde",
   "metadata": {},
   "outputs": [],
   "source": []
  },
  {
   "cell_type": "code",
   "execution_count": null,
   "id": "705789ff",
   "metadata": {},
   "outputs": [],
   "source": []
  },
  {
   "cell_type": "code",
   "execution_count": null,
   "id": "90ffa709",
   "metadata": {},
   "outputs": [],
   "source": []
  },
  {
   "cell_type": "code",
   "execution_count": null,
   "id": "23256214",
   "metadata": {},
   "outputs": [],
   "source": []
  },
  {
   "cell_type": "code",
   "execution_count": 69,
   "id": "375b227b",
   "metadata": {},
   "outputs": [
    {
     "ename": "NameError",
     "evalue": "name 'pd' is not defined",
     "output_type": "error",
     "traceback": [
      "\u001b[1;31m---------------------------------------------------------------------------\u001b[0m",
      "\u001b[1;31mNameError\u001b[0m                                 Traceback (most recent call last)",
      "Cell \u001b[1;32mIn[69], line 1\u001b[0m\n\u001b[1;32m----> 1\u001b[0m pp \u001b[38;5;241m=\u001b[39m \u001b[43mpd\u001b[49m\u001b[38;5;241m.\u001b[39mread_csv(\u001b[38;5;124mr\u001b[39m\u001b[38;5;124m'\u001b[39m\u001b[38;5;124mC:\u001b[39m\u001b[38;5;124m\\\u001b[39m\u001b[38;5;124mUsers\u001b[39m\u001b[38;5;124m\\\u001b[39m\u001b[38;5;124mHP\u001b[39m\u001b[38;5;124m\\\u001b[39m\u001b[38;5;124mDesktop\u001b[39m\u001b[38;5;124m\\\u001b[39m\u001b[38;5;124mkiran.csv\u001b[39m\u001b[38;5;124m'\u001b[39m)\n",
      "\u001b[1;31mNameError\u001b[0m: name 'pd' is not defined"
     ]
    }
   ],
   "source": [
    "pp = pd.read_csv(r'C:\\Users\\HP\\Desktop\\kiran.csv')"
   ]
  },
  {
   "cell_type": "code",
   "execution_count": null,
   "id": "751ab964",
   "metadata": {},
   "outputs": [],
   "source": []
  }
 ],
 "metadata": {
  "kernelspec": {
   "display_name": "Python 3 (ipykernel)",
   "language": "python",
   "name": "python3"
  },
  "language_info": {
   "codemirror_mode": {
    "name": "ipython",
    "version": 3
   },
   "file_extension": ".py",
   "mimetype": "text/x-python",
   "name": "python",
   "nbconvert_exporter": "python",
   "pygments_lexer": "ipython3",
   "version": "3.10.9"
  }
 },
 "nbformat": 4,
 "nbformat_minor": 5
}
