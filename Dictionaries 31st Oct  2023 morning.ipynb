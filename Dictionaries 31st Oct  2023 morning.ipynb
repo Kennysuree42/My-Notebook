{
 "cells": [
  {
   "cell_type": "code",
   "execution_count": 1,
   "id": "28732174",
   "metadata": {},
   "outputs": [],
   "source": [
    "dict1 = {\n",
    "    \"empname\":\"kiran\",\n",
    "    \"emp role\": \"developer\",\n",
    "    \"emp pay\": \"32000\",\n",
    "    \"emp conduct\": \"True\"\n",
    "}"
   ]
  },
  {
   "cell_type": "code",
   "execution_count": 145,
   "id": "4731e6bc",
   "metadata": {},
   "outputs": [],
   "source": [
    "dict1.get('developer')"
   ]
  },
  {
   "cell_type": "code",
   "execution_count": 13,
   "id": "a37d32d6",
   "metadata": {},
   "outputs": [
    {
     "name": "stdout",
     "output_type": "stream",
     "text": [
      "{1: 2}\n"
     ]
    }
   ],
   "source": [
    "d = {\n",
    "    1:2,\n",
    "    1:2\n",
    "}\n",
    "print(d)"
   ]
  },
  {
   "cell_type": "code",
   "execution_count": 57,
   "id": "5553b17a",
   "metadata": {},
   "outputs": [
    {
     "name": "stdout",
     "output_type": "stream",
     "text": [
      "{'k': 'k'}\n"
     ]
    }
   ],
   "source": [
    "d1 = {\n",
    "    'k':'a',       \n",
    "    'k':'k'       \n",
    "}\n",
    "print(d1)\n"
   ]
  },
  {
   "cell_type": "code",
   "execution_count": 16,
   "id": "4198da17",
   "metadata": {},
   "outputs": [
    {
     "data": {
      "text/plain": [
       "'kiran'"
      ]
     },
     "execution_count": 16,
     "metadata": {},
     "output_type": "execute_result"
    }
   ],
   "source": [
    "dict1[\"empname\"]"
   ]
  },
  {
   "cell_type": "code",
   "execution_count": 68,
   "id": "c7ffe993",
   "metadata": {},
   "outputs": [
    {
     "data": {
      "text/plain": [
       "'white'"
      ]
     },
     "execution_count": 68,
     "metadata": {},
     "output_type": "execute_result"
    }
   ],
   "source": [
    "dict2 = {\n",
    "    \"brand\": \"lenovo\",\n",
    "    \"model\": \"ryzen3\",\n",
    "    \"year\": \"2020\",\n",
    "    'st': False,\n",
    "    'color_variants':('red','black','white')\n",
    "}\n",
    "dict2['color_variants'][2]"
   ]
  },
  {
   "cell_type": "code",
   "execution_count": 65,
   "id": "26601641",
   "metadata": {},
   "outputs": [
    {
     "name": "stdout",
     "output_type": "stream",
     "text": [
      "{'s_name': 'kiran', 's_no': 48, 's_native': 'ptp'}\n"
     ]
    }
   ],
   "source": [
    "dict22 = dict(s_name=\"kiran\",s_no=48,s_native=\"ptp\")\n",
    "print(dict22)"
   ]
  },
  {
   "cell_type": "code",
   "execution_count": 69,
   "id": "befa27a2",
   "metadata": {},
   "outputs": [
    {
     "data": {
      "text/plain": [
       "{'brand': 'lenovo',\n",
       " 'model': 'ryzen3',\n",
       " 'year': '2020',\n",
       " 'st': False,\n",
       " 'color_variants': ('red', 'black', 'white')}"
      ]
     },
     "execution_count": 69,
     "metadata": {},
     "output_type": "execute_result"
    }
   ],
   "source": [
    "dict2"
   ]
  },
  {
   "cell_type": "code",
   "execution_count": 70,
   "id": "7a8a1444",
   "metadata": {},
   "outputs": [
    {
     "name": "stdout",
     "output_type": "stream",
     "text": [
      "{'brand': 'lenovo', 'model': 'ryzen3', 'year': '2020', 'st': False, 'color_variants': ('red', 'black', 'white'), 'c': 'naresh', 'd': 'america'}\n"
     ]
    }
   ],
   "source": [
    "dict2['c'] = 'naresh'\n",
    "dict2['d'] = 'america'\n",
    "print(dict2)"
   ]
  },
  {
   "cell_type": "code",
   "execution_count": 71,
   "id": "ec5d8b48",
   "metadata": {},
   "outputs": [],
   "source": [
    "#Access"
   ]
  },
  {
   "cell_type": "code",
   "execution_count": 73,
   "id": "112d02c9",
   "metadata": {},
   "outputs": [
    {
     "data": {
      "text/plain": [
       "('red', 'black', 'white')"
      ]
     },
     "execution_count": 73,
     "metadata": {},
     "output_type": "execute_result"
    }
   ],
   "source": [
    "u = dict2['color_variants']\n",
    "u\n"
   ]
  },
  {
   "cell_type": "code",
   "execution_count": 75,
   "id": "7bcab654",
   "metadata": {
    "scrolled": true
   },
   "outputs": [
    {
     "name": "stdout",
     "output_type": "stream",
     "text": [
      "{'brand': 'samsung', 'model': ['j-series', 'note', 'watches', 'm-series'], 'year': (2020, 2021, 2022, 2023), 'price': [10000, 20000, 55999, 8999, 12000]}\n"
     ]
    }
   ],
   "source": [
    "mobile = {\n",
    "    \"brand\":\"samsung\",\n",
    "    \"model\":['j-series','note','watches','m-series'],\n",
    "    \"year\":(2020,2021,2022,2023),\n",
    "    \"price\":[10000,20000,55999,8999,12000]\n",
    "}\n",
    "print(mobile)"
   ]
  },
  {
   "cell_type": "code",
   "execution_count": 87,
   "id": "f08a3f6c",
   "metadata": {},
   "outputs": [
    {
     "name": "stdout",
     "output_type": "stream",
     "text": [
      "{'brand': 'samsung', 'model': ['j-series', 'note', 'watches', 'm-series'], 'year': (2020, 2021, 2022, 2023), 'price': [10000, 20000, 55999, 8999, 12000], 'market': 'india'}\n"
     ]
    }
   ],
   "source": [
    "mobile['market'] = 'india'\n",
    "print(mobile)"
   ]
  },
  {
   "cell_type": "code",
   "execution_count": 83,
   "id": "f9d00ad3",
   "metadata": {},
   "outputs": [
    {
     "name": "stdout",
     "output_type": "stream",
     "text": [
      "m-series\n",
      "dict_keys(['brand', 'model', 'year', 'price'])\n"
     ]
    }
   ],
   "source": [
    "print(mobile['model'][3])\n",
    "b= mobile.keys()           # keys()\n",
    "print(b)"
   ]
  },
  {
   "cell_type": "code",
   "execution_count": 85,
   "id": "7c24521f",
   "metadata": {},
   "outputs": [
    {
     "name": "stdout",
     "output_type": "stream",
     "text": [
      "dict_values(['samsung', ['j-series', 'note', 'watches', 'm-series'], (2020, 2021, 2022, 2023), [10000, 20000, 55999, 8999, 12000], 'india'])\n"
     ]
    }
   ],
   "source": [
    "c = mobile.values()     # values()\n",
    "print(c)"
   ]
  },
  {
   "cell_type": "code",
   "execution_count": 86,
   "id": "af9ed282",
   "metadata": {},
   "outputs": [
    {
     "name": "stdout",
     "output_type": "stream",
     "text": [
      "dict_items([('brand', 'samsung'), ('model', ['j-series', 'note', 'watches', 'm-series']), ('year', (2020, 2021, 2022, 2023)), ('price', [10000, 20000, 55999, 8999, 12000]), ('market', 'india')])\n"
     ]
    }
   ],
   "source": [
    "x = mobile.items()           #items\n",
    "print(x)"
   ]
  },
  {
   "cell_type": "code",
   "execution_count": 96,
   "id": "51bab71a",
   "metadata": {},
   "outputs": [
    {
     "name": "stdout",
     "output_type": "stream",
     "text": [
      "Devil's Food\n",
      "Powdered Sugar\n"
     ]
    }
   ],
   "source": [
    "b1={\n",
    "\t\"id\": \"0001\",\n",
    "\t\"type\": \"donut\",\n",
    "\t\"name\": \"Cake\",\n",
    "\t\"ppu\": 0.55,\n",
    "\t\"batters\":\n",
    "\t\t{\n",
    "\t\t\t\"batter\":\n",
    "\t\t\t\t[\n",
    "\t\t\t\t\t{ \"id\": \"1001\", \"type\": \"Regular\" },\n",
    "\t\t\t\t\t{ \"id\": \"1002\", \"type\": \"Chocolate\" },\n",
    "\t\t\t\t\t{ \"id\": \"1003\", \"type\": \"Blueberry\" },\n",
    "\t\t\t\t\t{ \"id\": \"1004\", \"type\": \"Devil's Food\" }\n",
    "\t\t\t\t]\n",
    "\t\t},\n",
    "\t\"topping\":\n",
    "\t\t[\n",
    "\t\t\t{ \"id\": \"5001\", \"type\": \"None\" },\n",
    "\t\t\t{ \"id\": \"5002\", \"type\": \"Glazed\" },\n",
    "\t\t\t{ \"id\": \"5005\", \"type\": \"Sugar\" },\n",
    "\t\t\t{ \"id\": \"5007\", \"type\": \"Powdered Sugar\" },\n",
    "\t\t\t{ \"id\": \"5006\", \"type\": \"Chocolate with Sprinkles\" },\n",
    "\t\t\t{ \"id\": \"5003\", \"type\": \"Chocolate\" },\n",
    "\t\t\t{ \"id\": \"5004\", \"type\": \"Maple\" }\n",
    "\t\t]\n",
    "}\n",
    "print(b1['batters']['batter'][3]['type'])\n",
    "\n",
    "print(b1['topping'][3]['type'])"
   ]
  },
  {
   "cell_type": "code",
   "execution_count": 142,
   "id": "e6e8c24b",
   "metadata": {},
   "outputs": [
    {
     "name": "stdout",
     "output_type": "stream",
     "text": [
      "{'grapes': '20kg', 'apple': '23kg', 'year': 2020}\n",
      "{'grapes': '20kg', 'year': 2020}\n"
     ]
    }
   ],
   "source": [
    "dictk = {\n",
    "    'grapes':'20kg',\n",
    "    'apple':'10kg',\n",
    "    'year':'2023'\n",
    "}\n",
    "\n",
    "#(dictk)['year']=2016\n",
    "dictk.update({'year':2020,\n",
    "             'apple':'23kg'})            #update\n",
    "print(dictk)\n",
    "#dictk['cmnmm'] = 'jhvjh2123nmg' #adding the element into the dict.\n",
    "dictk.pop('apple','year')       #pop\n",
    "#dictk.popitem()\n",
    "\n",
    "print(dictk)"
   ]
  },
  {
   "cell_type": "code",
   "execution_count": 110,
   "id": "a759655b",
   "metadata": {},
   "outputs": [
    {
     "data": {
      "text/plain": [
       "{'year': 2020}"
      ]
     },
     "execution_count": 110,
     "metadata": {},
     "output_type": "execute_result"
    }
   ],
   "source": [
    "del dictk['grapes']\n",
    "dictk"
   ]
  },
  {
   "cell_type": "code",
   "execution_count": 112,
   "id": "969aaf1c",
   "metadata": {},
   "outputs": [
    {
     "ename": "NameError",
     "evalue": "name 'dictk' is not defined",
     "output_type": "error",
     "traceback": [
      "\u001b[1;31m---------------------------------------------------------------------------\u001b[0m",
      "\u001b[1;31mNameError\u001b[0m                                 Traceback (most recent call last)",
      "Cell \u001b[1;32mIn[112], line 1\u001b[0m\n\u001b[1;32m----> 1\u001b[0m \u001b[38;5;28;01mdel\u001b[39;00m dictk\n\u001b[0;32m      2\u001b[0m \u001b[38;5;28mprint\u001b[39m(dictk)\n",
      "\u001b[1;31mNameError\u001b[0m: name 'dictk' is not defined"
     ]
    }
   ],
   "source": [
    "del dictk\n",
    "print(dictk)"
   ]
  },
  {
   "cell_type": "code",
   "execution_count": 116,
   "id": "3c74f16b",
   "metadata": {},
   "outputs": [
    {
     "name": "stdout",
     "output_type": "stream",
     "text": [
      "{}\n"
     ]
    }
   ],
   "source": [
    "dict10 = {\n",
    "    'key1':'value1',\n",
    "    'key2':'value2',\n",
    "    'key3':'value3'\n",
    "}                           # clear\n",
    "dict10.clear()\n",
    "print(dict10)"
   ]
  },
  {
   "cell_type": "markdown",
   "id": "d6c96311",
   "metadata": {},
   "source": [
    "# Loops"
   ]
  },
  {
   "cell_type": "code",
   "execution_count": 122,
   "id": "c9806332",
   "metadata": {},
   "outputs": [
    {
     "name": "stdout",
     "output_type": "stream",
     "text": [
      "value3\n"
     ]
    }
   ],
   "source": [
    "dict11 = {\n",
    "    'key1':'value1',\n",
    "    'key2':'value2',\n",
    "    'key3':'value3'\n",
    "   }\n",
    "k=dict11.get('key3')\n",
    "print(k)"
   ]
  },
  {
   "cell_type": "code",
   "execution_count": 118,
   "id": "9dd9c9b8",
   "metadata": {},
   "outputs": [
    {
     "name": "stdout",
     "output_type": "stream",
     "text": [
      "key1\n",
      "key2\n",
      "key3\n"
     ]
    }
   ],
   "source": [
    "for x in dict11:\n",
    "    print(x)"
   ]
  },
  {
   "cell_type": "code",
   "execution_count": 119,
   "id": "479ca25e",
   "metadata": {},
   "outputs": [
    {
     "name": "stdout",
     "output_type": "stream",
     "text": [
      "value1\n",
      "value2\n",
      "value3\n"
     ]
    }
   ],
   "source": [
    "for x in dict11:\n",
    "    print(dict11[x])"
   ]
  },
  {
   "cell_type": "code",
   "execution_count": 124,
   "id": "cd331802",
   "metadata": {},
   "outputs": [
    {
     "name": "stdout",
     "output_type": "stream",
     "text": [
      "key1\n",
      "key2\n",
      "key3\n",
      "value1\n",
      "value2\n",
      "value3\n"
     ]
    }
   ],
   "source": [
    "for x in dict11.keys():\n",
    "    print(x)\n",
    "for x in dict11.values():\n",
    "    print(x)"
   ]
  },
  {
   "cell_type": "code",
   "execution_count": 125,
   "id": "3f16328c",
   "metadata": {},
   "outputs": [
    {
     "name": "stdout",
     "output_type": "stream",
     "text": [
      "key1 value1\n",
      "key2 value2\n",
      "key3 value3\n"
     ]
    }
   ],
   "source": [
    "for x,y in dict11.items():\n",
    "    print(x,y)"
   ]
  },
  {
   "cell_type": "markdown",
   "id": "be5f9dfd",
   "metadata": {},
   "source": [
    "# Nested dictionaries"
   ]
  },
  {
   "cell_type": "code",
   "execution_count": 139,
   "id": "6f207caa",
   "metadata": {},
   "outputs": [
    {
     "name": "stdout",
     "output_type": "stream",
     "text": [
      "Linus\n"
     ]
    }
   ],
   "source": [
    "family = {\n",
    "    'child1':{\n",
    "        'name':'abc',\n",
    "        'year':'2000'\n",
    "},\n",
    "\"child2\" : {\n",
    "    \"name\" : \"Tobias\",\n",
    "    \"year\" : 2007\n",
    "},\n",
    "  \"child3\" : {\n",
    "    \"name\" : \"Linus\",\n",
    "    \"year\" : 2011\n",
    "}\n",
    "}\n",
    "print(family['child3']['name'])"
   ]
  },
  {
   "cell_type": "code",
   "execution_count": null,
   "id": "d5fe9dff",
   "metadata": {},
   "outputs": [],
   "source": []
  }
 ],
 "metadata": {
  "kernelspec": {
   "display_name": "Python 3 (ipykernel)",
   "language": "python",
   "name": "python3"
  },
  "language_info": {
   "codemirror_mode": {
    "name": "ipython",
    "version": 3
   },
   "file_extension": ".py",
   "mimetype": "text/x-python",
   "name": "python",
   "nbconvert_exporter": "python",
   "pygments_lexer": "ipython3",
   "version": "3.10.9"
  }
 },
 "nbformat": 4,
 "nbformat_minor": 5
}
