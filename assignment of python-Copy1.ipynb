{
 "cells": [
  {
   "cell_type": "markdown",
   "id": "d37aae77",
   "metadata": {},
   "source": [
    "# 1.Write a programme\n",
    "to check whether a person is eligible\n",
    " for voting or not?(Hint:accept age from user)"
   ]
  },
  {
   "cell_type": "code",
   "execution_count": 4,
   "id": "3833577f",
   "metadata": {},
   "outputs": [
    {
     "name": "stdout",
     "output_type": "stream",
     "text": [
      "Please Enter Your age: 81\n",
      "you are eligible for the voting\n"
     ]
    }
   ],
   "source": [
    "v=int(input(\"Please Enter Your age: \"))                            #vote\n",
    "if v>18:\n",
    "    print (\"you are eligible for the voting\")\n",
    "else:\n",
    "    print(\"you are not eligible for voting: sorry try again after when you are an adult\")\n",
    "    "
   ]
  },
  {
   "cell_type": "markdown",
   "id": "23887c69",
   "metadata": {},
   "source": [
    "# 2.Write a programme to check \n",
    "whether a number entered by user is even or odd."
   ]
  },
  {
   "cell_type": "code",
   "execution_count": 28,
   "id": "3e62db57",
   "metadata": {},
   "outputs": [
    {
     "name": "stdout",
     "output_type": "stream",
     "text": [
      "please select our lucky number 49\n",
      "Your number is odd  \n"
     ]
    }
   ],
   "source": [
    "n=int(input(\"please select our lucky number \"))      # Even or Odd\n",
    "if n%2 ==0:\n",
    "    print(\"the number is even  \")\n",
    "else:\n",
    "    print(\"Your number is odd  \")"
   ]
  },
  {
   "cell_type": "code",
   "execution_count": 21,
   "id": "575fbcb9",
   "metadata": {},
   "outputs": [
    {
     "data": {
      "text/plain": [
       "2.5"
      ]
     },
     "execution_count": 21,
     "metadata": {},
     "output_type": "execute_result"
    }
   ],
   "source": [
    "5/2"
   ]
  },
  {
   "cell_type": "code",
   "execution_count": 20,
   "id": "e5f9c904",
   "metadata": {},
   "outputs": [
    {
     "data": {
      "text/plain": [
       "0"
      ]
     },
     "execution_count": 20,
     "metadata": {},
     "output_type": "execute_result"
    }
   ],
   "source": [
    "10%2"
   ]
  },
  {
   "cell_type": "markdown",
   "id": "162b04fe",
   "metadata": {},
   "source": [
    "# 3.Write a programme \n",
    "to check a number is divisible by 5 or not."
   ]
  },
  {
   "cell_type": "code",
   "execution_count": 8,
   "id": "f0258ac2",
   "metadata": {},
   "outputs": [
    {
     "name": "stdout",
     "output_type": "stream",
     "text": [
      "Enter the Number: 25\n",
      "the number is 5 multiple\n"
     ]
    }
   ],
   "source": [
    "no=int(input(\"Enter the Number: \"))        # div.by 5 or not\n",
    "if no%5==5 or no%5==0:\n",
    "    print(\"the number is 5 multiple\")\n",
    "else:\n",
    "    print(\"the number is not a 5 multiple\")"
   ]
  },
  {
   "cell_type": "code",
   "execution_count": 63,
   "id": "dbd7b377",
   "metadata": {},
   "outputs": [
    {
     "data": {
      "text/plain": [
       "0"
      ]
     },
     "execution_count": 63,
     "metadata": {},
     "output_type": "execute_result"
    }
   ],
   "source": [
    "27%3\n"
   ]
  },
  {
   "cell_type": "code",
   "execution_count": 57,
   "id": "95195933",
   "metadata": {},
   "outputs": [
    {
     "data": {
      "text/plain": [
       "0"
      ]
     },
     "execution_count": 57,
     "metadata": {},
     "output_type": "execute_result"
    }
   ],
   "source": [
    "136470%5"
   ]
  },
  {
   "cell_type": "code",
   "execution_count": 60,
   "id": "114062e2",
   "metadata": {},
   "outputs": [
    {
     "data": {
      "text/plain": [
       "0"
      ]
     },
     "execution_count": 60,
     "metadata": {},
     "output_type": "execute_result"
    }
   ],
   "source": [
    "2556416510%5"
   ]
  },
  {
   "cell_type": "markdown",
   "id": "26733e44",
   "metadata": {},
   "source": [
    "# 4.Write a programme \n",
    "to display \"Hi\" \n",
    "if a number entered by user is a multiple of 3,\n",
    " otherwise print \"Bye\"."
   ]
  },
  {
   "cell_type": "code",
   "execution_count": 64,
   "id": "716ad278",
   "metadata": {},
   "outputs": [
    {
     "name": "stdout",
     "output_type": "stream",
     "text": [
      "Intiate your number: 4\n",
      "Bye\n"
     ]
    }
   ],
   "source": [
    "j=int(input(\"Intiate your number: \")) # multiple of 3 say 'Hi' or \"Bye\"\n",
    "if j%3==0:\n",
    "    print('Hi')\n",
    "else:\n",
    "    print(\"Bye\")"
   ]
  },
  {
   "cell_type": "markdown",
   "id": "637195b6",
   "metadata": {},
   "source": [
    "# 5.Write a programme to accept\n",
    " percentage from the user and \n",
    " display the grade according to the following criteria.\n",
    "        Marks          Grade\n",
    "         >90            A\n",
    "         >80 and <=90   B\n",
    "         >=60 and <=80  C\n",
    "      \t  below 60      D\n",
    "\t\t  "
   ]
  },
  {
   "cell_type": "code",
   "execution_count": 113,
   "id": "3179f51e",
   "metadata": {},
   "outputs": [
    {
     "name": "stdout",
     "output_type": "stream",
     "text": [
      "Enter Your Percentage: 36\n",
      "F Grade\n"
     ]
    }
   ],
   "source": [
    "pp=int(input(\"Enter Your Percentage: \"))        # Percentage\n",
    "if pp>90:                                       # if\n",
    "    print(\"A Grade\")\n",
    "elif pp>80 and pp<=90:                          # else + if\n",
    "        print(\"B Grade\")\n",
    "elif pp>=60 and pp<=80:                         # so many if's\n",
    "            print(\"C Grade\")\n",
    "elif pp<=50 and pp>39:\n",
    "    print(\"D Grade\")\n",
    "else :                                          # exception if you want \n",
    "    print(\"F Grade\")"
   ]
  },
  {
   "cell_type": "markdown",
   "id": "1909b981",
   "metadata": {},
   "source": [
    "# 6.Write a python \n",
    "        for loop to count the \n",
    "\t\tnumber of elements in a list."
   ]
  },
  {
   "cell_type": "code",
   "execution_count": 4,
   "id": "f2c12422",
   "metadata": {},
   "outputs": [
    {
     "name": "stdout",
     "output_type": "stream",
     "text": [
      "9\n"
     ]
    }
   ],
   "source": [
    "number=[2,3,45,56,6,7,909,'kiran','charan']\n",
    "count=0 \n",
    "for i in number:\n",
    "    count=count+1\n",
    "print(count)"
   ]
  },
  {
   "cell_type": "markdown",
   "id": "d570de22",
   "metadata": {},
   "source": [
    "# 7.Write a python for\n",
    " loop to print a triangle of stars."
   ]
  },
  {
   "cell_type": "code",
   "execution_count": 17,
   "id": "54c5fdd3",
   "metadata": {},
   "outputs": [
    {
     "name": "stdout",
     "output_type": "stream",
     "text": [
      "    * \n",
      "  * * * \n",
      "* * * * * \n"
     ]
    }
   ],
   "source": [
    "rows = 3                                     \n",
    "for i in range(1, rows + 1):                           \n",
    "    for j in range(rows - i):\n",
    "        print(\" \", end=\" \")\n",
    "   \n",
    "    for k in range(2 * i - 1):\n",
    "        print(\"*\", end=\" \")\n",
    "    print()\n"
   ]
  },
  {
   "cell_type": "markdown",
   "id": "6ee700f0",
   "metadata": {},
   "source": [
    "# 8.Write a python \n",
    "for loop to copy elements from one list to another."
   ]
  },
  {
   "cell_type": "code",
   "execution_count": 6,
   "id": "04031d0f",
   "metadata": {},
   "outputs": [
    {
     "name": "stdout",
     "output_type": "stream",
     "text": [
      "[1, 2, 3]\n",
      "[1, 2, 3]\n"
     ]
    }
   ],
   "source": [
    "cc=[1,2,3]         # list\n",
    "jj=[]              # emptied list\n",
    "for i in cc:\n",
    "    jj.append(i)\n",
    "print (cc)\n",
    "print(jj)          # copied from cc list"
   ]
  },
  {
   "cell_type": "markdown",
   "id": "d8ba537d",
   "metadata": {},
   "source": [
    "# 9.Write a python for loop \n",
    "to sort the numbers in a list \n",
    "in ascending order.\n"
   ]
  },
  {
   "cell_type": "code",
   "execution_count": 2,
   "id": "f8afdde4",
   "metadata": {},
   "outputs": [
    {
     "name": "stdout",
     "output_type": "stream",
     "text": [
      "Sorted numbers in ascending order:\n",
      "[11, 12, 22, 25, 34, 64, 90]\n"
     ]
    }
   ],
   "source": [
    "# List of integers to be sorted\n",
    "numbers = [64, 34, 25, 12, 22, 11, 90]\n",
    "\n",
    "# Nested for loop to sort the numbers in ascending order\n",
    "n = len(numbers)\n",
    "for i in range(n):\n",
    "    for j in range(0, n-i-1):\n",
    "        # Swap if the element found is greater than the next element\n",
    "        if numbers[j] > numbers[j+1]:\n",
    "            numbers[j], numbers[j+1] = numbers[j+1], numbers[j]\n",
    "\n",
    "# Print the sorted numbers\n",
    "print(\"Sorted numbers in ascending order:\")\n",
    "print(numbers)"
   ]
  },
  {
   "cell_type": "code",
   "execution_count": 21,
   "id": "13bfbf8e",
   "metadata": {},
   "outputs": [
    {
     "name": "stdout",
     "output_type": "stream",
     "text": [
      "Sorted Numbers in ascending order:\n",
      "[11, 59, 65, 75, 89, 489]\n"
     ]
    }
   ],
   "source": [
    "       \n",
    "\n",
    "\n",
    "n = len(numbers)    # sorting the numbers in a list in ascending order\n",
    "for i in range(n):\n",
    "        min_i = i\n",
    "        for j in range(i+1, n):\n",
    "            if numbers[j] < numbers[min_i]:\n",
    "                min_i = j\n",
    "        numbers[i],numbers[min_i]=numbers[min_i], numbers[i]\n",
    "        \n",
    "\n",
    "selection_sort(numbers)\n",
    "\n",
    "print(\"Sorted Numbers in ascending order:\")\n",
    "print(numbers)\n",
    "\n",
    "        "
   ]
  },
  {
   "cell_type": "markdown",
   "id": "cc233639",
   "metadata": {},
   "source": [
    "# 10.Write a python for loop to \n",
    "print the multiples of 3 using range() function."
   ]
  },
  {
   "cell_type": "code",
   "execution_count": 176,
   "id": "d72d4486",
   "metadata": {},
   "outputs": [
    {
     "name": "stdout",
     "output_type": "stream",
     "text": [
      "enter the number: 15\n",
      "0\n",
      "3\n",
      "6\n",
      "9\n",
      "12\n"
     ]
    }
   ],
   "source": [
    "w= int(input(\"enter the number: \"))\n",
    "for w in range(w):\n",
    "    if w%3==0:\n",
    "        print(w)\n",
    "    "
   ]
  },
  {
   "cell_type": "markdown",
   "id": "66b62eb6",
   "metadata": {},
   "source": [
    "# 11.Write a python \n",
    "for loop to print the numbers \n",
    "in reverse order using range() function"
   ]
  },
  {
   "cell_type": "code",
   "execution_count": 38,
   "id": "6b9d07c1",
   "metadata": {},
   "outputs": [
    {
     "name": "stdout",
     "output_type": "stream",
     "text": [
      "8\n",
      "7\n",
      "6\n",
      "5\n",
      "4\n",
      "3\n",
      "2\n",
      "1\n"
     ]
    }
   ],
   "source": [
    "h_l=[0,1,2,3,4,5,6,7,8]\n",
    "\n",
    "for h_l in range(8,0,-1):\n",
    "    print(h_l)"
   ]
  },
  {
   "cell_type": "markdown",
   "id": "572de98d",
   "metadata": {},
   "source": [
    "# 12.Print the items in a tuple using while loop\n"
   ]
  },
  {
   "cell_type": "code",
   "execution_count": 77,
   "id": "9c38d9b8",
   "metadata": {},
   "outputs": [
    {
     "name": "stdout",
     "output_type": "stream",
     "text": [
      "16\n",
      "25\n",
      "18\n",
      "20\n"
     ]
    }
   ],
   "source": [
    "tup2=(16,25,18,20)\n",
    "y=0\n",
    "while y<len(tup2):\n",
    "    print(tup2[y])\n",
    "    y=y+1"
   ]
  },
  {
   "cell_type": "markdown",
   "id": "e7e29aa2",
   "metadata": {},
   "source": [
    "# 13.Find the sum of numbers in a \n",
    "list using while loop"
   ]
  },
  {
   "cell_type": "code",
   "execution_count": 8,
   "id": "c4fcef5a",
   "metadata": {},
   "outputs": [
    {
     "name": "stdout",
     "output_type": "stream",
     "text": [
      "the Total of the list is: 37\n"
     ]
    }
   ],
   "source": [
    "num = [2,5,10,10,10]\n",
    "\n",
    "total = 0\n",
    "i = 0\n",
    "while i < len(num):\n",
    "    total = total + num[i]\n",
    "    i = i+1\n",
    "print(\"the Total of the list is:\",total)\n",
    "    "
   ]
  },
  {
   "cell_type": "markdown",
   "id": "d73a4470",
   "metadata": {},
   "source": [
    "# 14.Print all letters in \n",
    "\"Mytraz\" except \"y\" and \"a\" using \n",
    "Python while loop"
   ]
  },
  {
   "cell_type": "code",
   "execution_count": 9,
   "id": "3f5a62c4",
   "metadata": {},
   "outputs": [
    {
     "name": "stdout",
     "output_type": "stream",
     "text": [
      "M\n",
      "t\n",
      "r\n",
      "z\n"
     ]
    }
   ],
   "source": [
    "word = \"Mytraz\"\n",
    "i = 0\n",
    "\n",
    "while i < len(word):\n",
    "    if word[i] != 'y'and word[i] != 'a':\n",
    "        print(word[i])\n",
    "    i = i+1"
   ]
  },
  {
   "cell_type": "markdown",
   "id": "0dae6bbe",
   "metadata": {},
   "source": [
    "# 15.Convert numbers from decimal \n",
    "to binary using while loop"
   ]
  },
  {
   "cell_type": "code",
   "execution_count": 17,
   "id": "0f77bab5",
   "metadata": {},
   "outputs": [
    {
     "name": "stdout",
     "output_type": "stream",
     "text": [
      "Enter a decimal number: 50\n",
      "Binary representation: 110010\n"
     ]
    }
   ],
   "source": [
    "# Get decimal input from the user\n",
    "decimal_num = int(input(\"Enter a decimal number: \"))\n",
    "\n",
    "                      # Handle the case when the input number is 0 separately\n",
    "if decimal_num == 0:\n",
    "    binary_num = \"0\"\n",
    "else:\n",
    "    binary_num = \"\"  # Initialize an empty string to store the binary representation\n",
    "\n",
    "    # Convert decimal to binary using a while loop\n",
    "    while decimal_num > 0:\n",
    "        remainder = decimal_num % 2  # Get the remainder when divided by 2\n",
    "        binary_num = str(remainder) + binary_num  # Add the remainder to the left of the existing binary representation\n",
    "        decimal_num //= 2  # Integer division by 2 to get the quotient\n",
    "\n",
    "# Print the binary representation\n",
    "print(\"Binary representation:\", binary_num)"
   ]
  },
  {
   "cell_type": "markdown",
   "id": "33bec4d7",
   "metadata": {},
   "source": [
    "# 16.Find the average \n",
    "       of 5 numbers \n",
    "\t   using while loop\n",
    "\t   (accept numbers from user)"
   ]
  },
  {
   "cell_type": "code",
   "execution_count": 13,
   "id": "75ed036f",
   "metadata": {},
   "outputs": [
    {
     "name": "stdout",
     "output_type": "stream",
     "text": [
      "Enter a number: 19\n",
      "Enter a number: 69\n",
      "Enter a number: 47\n",
      "Enter a number: 58\n",
      "Enter a number: 36\n",
      "45.8\n"
     ]
    }
   ],
   "source": [
    "total = 0\n",
    "count = 0\n",
    "\n",
    "# Use a while loop to input 5 numbers\n",
    "while count < 5:\n",
    "    # Get a number from the user\n",
    "    num_str = input(\"Enter a number: \")\n",
    "    \n",
    "    # Check if the input is a valid number\n",
    "    if num_str.isdigit():\n",
    "        num = int(num_str)\n",
    "        total += num\n",
    "        count += 1\n",
    "    else:\n",
    "        print(\"Invalid input. Please enter a valid number.\")\n",
    "\n",
    "# Calculate the average\n",
    "average = total / 5\n",
    "print(average)"
   ]
  },
  {
   "cell_type": "markdown",
   "id": "00777272",
   "metadata": {},
   "source": [
    "# 17.Print the square of numbers from 1 to 5 using while loop"
   ]
  },
  {
   "cell_type": "code",
   "execution_count": 16,
   "id": "13c3caf2",
   "metadata": {},
   "outputs": [
    {
     "name": "stdout",
     "output_type": "stream",
     "text": [
      "the square of 1 is 1\n",
      "the square of 2 is 4\n",
      "the square of 3 is 9\n",
      "the square of 4 is 16\n",
      "the square of 5 is 25\n"
     ]
    }
   ],
   "source": [
    "num = 1\n",
    "while num <= 5:\n",
    "    square = num **2\n",
    "    print(\"the square of\",num,\"is\", square)\n",
    "    num = num + 1"
   ]
  },
  {
   "cell_type": "code",
   "execution_count": null,
   "id": "0af7846c",
   "metadata": {},
   "outputs": [],
   "source": []
  }
 ],
 "metadata": {
  "kernelspec": {
   "display_name": "Python 3 (ipykernel)",
   "language": "python",
   "name": "python3"
  },
  "language_info": {
   "codemirror_mode": {
    "name": "ipython",
    "version": 3
   },
   "file_extension": ".py",
   "mimetype": "text/x-python",
   "name": "python",
   "nbconvert_exporter": "python",
   "pygments_lexer": "ipython3",
   "version": "3.10.9"
  }
 },
 "nbformat": 4,
 "nbformat_minor": 5
}
