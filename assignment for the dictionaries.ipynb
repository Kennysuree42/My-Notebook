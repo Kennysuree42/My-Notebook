{
 "cells": [
  {
   "cell_type": "markdown",
   "id": "4d176afa",
   "metadata": {},
   "source": [
    "# 1. \n",
    "keys = ['One', 'Two', 'Three']\n",
    "values = [1, 2, 3]\n",
    "By using the above two lists write a Python program to convert them\n",
    " into a dictionary in a way that item from list1 is the key \n",
    "and item from list2 is the value."
   ]
  },
  {
   "cell_type": "code",
   "execution_count": null,
   "id": "6a7c69f5",
   "metadata": {},
   "outputs": [],
   "source": [
    "list1 = ['one','two','three']\n",
    "list2 = [1,2,3]\n",
    "\n",
    "print('given key list is: '+ str(list1))\n",
    "print('given value list is: '+ str(list2))\n",
    "\n",
    "\n",
    "emp_dict = {}\n",
    "for key in list1:\n",
    "    for value in list2:\n",
    "        emp_dict[key] = value\n",
    "        list2.remove(value)\n",
    "        break\n",
    "print(\"the result of the dictionary is: \"+str(emp_dict))"
   ]
  },
  {
   "cell_type": "code",
   "execution_count": null,
   "id": "598c9bed",
   "metadata": {},
   "outputs": [],
   "source": [
    "test_list1 = ['one','two','three']\n",
    "test_list2 = [1,2,3]\n",
    "res = {test_list1[i]:test_list2 for i in range(len(test_list1))}\n",
    "print(res)\n",
    "print(str(res))"
   ]
  },
  {
   "cell_type": "code",
   "execution_count": 12,
   "id": "cfb5b490",
   "metadata": {},
   "outputs": [
    {
     "name": "stdout",
     "output_type": "stream",
     "text": [
      "<class 'list'>\n",
      "<class 'str'>\n"
     ]
    }
   ],
   "source": [
    "print(type(test_list2))\n",
    "print(type(str(test_list2)))"
   ]
  },
  {
   "cell_type": "code",
   "execution_count": 8,
   "id": "c3588248",
   "metadata": {},
   "outputs": [
    {
     "name": "stdout",
     "output_type": "stream",
     "text": [
      "[1]\n"
     ]
    }
   ],
   "source": [
    "list11 = ['one','two']\n",
    "list22 = [1,2]\n",
    "list22.remove(2)\n",
    "print(list22)"
   ]
  },
  {
   "cell_type": "code",
   "execution_count": 7,
   "id": "2baa868b",
   "metadata": {},
   "outputs": [
    {
     "name": "stdout",
     "output_type": "stream",
     "text": [
      "the one is: ['one', 'two']\n",
      "the values are: [1, 2]\n"
     ]
    }
   ],
   "source": [
    "print('the one is: ' + str(list11))\n",
    "print('the values are: '+ str(list22))"
   ]
  },
  {
   "cell_type": "code",
   "execution_count": 9,
   "id": "3f50311f",
   "metadata": {},
   "outputs": [
    {
     "name": "stdout",
     "output_type": "stream",
     "text": [
      "<class 'str'>\n"
     ]
    }
   ],
   "source": [
    "v = str(12)\n",
    "print(type(v))"
   ]
  },
  {
   "cell_type": "markdown",
   "id": "b00ce230",
   "metadata": {},
   "source": [
    "# 2.Write a python program to merge two dictonaries into one."
   ]
  },
  {
   "cell_type": "code",
   "execution_count": 18,
   "id": "a247f80b",
   "metadata": {},
   "outputs": [
    {
     "name": "stdout",
     "output_type": "stream",
     "text": [
      "{'a': 1, 'b': 2, 'one': 5, 'two': 6}\n"
     ]
    }
   ],
   "source": [
    "dict1 ={'a':1,'b':2}\n",
    "dict2 ={'one':5,'two':6}\n",
    "dict1.update(dict2)\n",
    "print(dict1)"
   ]
  },
  {
   "cell_type": "code",
   "execution_count": 22,
   "id": "000bf744",
   "metadata": {},
   "outputs": [
    {
     "name": "stdout",
     "output_type": "stream",
     "text": [
      "{'a': 11, 'b': 22, 'c': 33, 'd': 44}\n"
     ]
    }
   ],
   "source": [
    "dict10 = {\n",
    "    'a':11,\n",
    "    'b':22\n",
    "}\n",
    "dict11 = {\n",
    "    'c':33,\n",
    "    'd':44\n",
    "}\n",
    "print(dict10|dict11)"
   ]
  },
  {
   "cell_type": "markdown",
   "id": "528fd7a7",
   "metadata": {},
   "source": [
    "# 3.\n",
    "Write a Python program to create a new dictionary by extracting the mentioned keys\n",
    " from the below dictionary.\n",
    "\tsample_dict = {\n",
    "   \t\t\t\t \"name\": \"Kelly\",\n",
    "   \t\t\t\t \"age\": 25,\n",
    "  \t\t\t\t \"salary\": 8000,\n",
    "   \t\t\t\t \"city\": \"New york\"}\n",
    "\n",
    "\t# Keys to extract\n",
    "\tkeys = [\"name\", \"salary\"]\n"
   ]
  },
  {
   "cell_type": "code",
   "execution_count": null,
   "id": "f6ad34ad",
   "metadata": {},
   "outputs": [],
   "source": [
    "sample_dict = {\n",
    "    'name': 'kelly',\n",
    "    'age': '25',\n",
    "    'salary': '8000',\n",
    "    'city':'newyork'\n",
    "}"
   ]
  },
  {
   "cell_type": "code",
   "execution_count": 32,
   "id": "c25b611b",
   "metadata": {},
   "outputs": [
    {
     "name": "stdout",
     "output_type": "stream",
     "text": [
      "{'name': 'Kelly', 'salary': 8000}\n",
      "<class 'dict'>\n"
     ]
    }
   ],
   "source": [
    "sample_dict = {\n",
    "    \"name\": \"Kelly\",\n",
    "    \"age\": 25,\n",
    "    \"salary\": 8000,\n",
    "    \"city\": \"New York\"\n",
    "}\n",
    "\n",
    "# Keys to extract\n",
    "keys = [\"name\", \"salary\"]\n",
    "\n",
    "# Initialize an empty dictionary to store the extracted keys and values\n",
    "new_dict = {}\n",
    "\n",
    "# Use a for loop to extract the specified keys\n",
    "for key in keys:\n",
    "    if key in sample_dict:\n",
    "        new_dict[key] = sample_dict[key]\n",
    "\n",
    "# Print the new dictionary\n",
    "print(new_dict)\n",
    "print(type(new_dict))"
   ]
  },
  {
   "cell_type": "code",
   "execution_count": null,
   "id": "4952b528",
   "metadata": {},
   "outputs": [],
   "source": []
  },
  {
   "cell_type": "code",
   "execution_count": null,
   "id": "619fc51e",
   "metadata": {},
   "outputs": [],
   "source": []
  },
  {
   "cell_type": "code",
   "execution_count": null,
   "id": "b4a161dd",
   "metadata": {},
   "outputs": [],
   "source": []
  },
  {
   "cell_type": "code",
   "execution_count": null,
   "id": "8ba348f5",
   "metadata": {},
   "outputs": [],
   "source": []
  },
  {
   "cell_type": "code",
   "execution_count": 30,
   "id": "51bddfcc",
   "metadata": {},
   "outputs": [
    {
     "name": "stdout",
     "output_type": "stream",
     "text": [
      "kelly 8000\n",
      "None\n"
     ]
    }
   ],
   "source": [
    "b = sample_dict.pop('name')\n",
    "n= sample_dict.pop('salary')\n",
    "new = print(b,n)\n",
    "print(new)# in dict29\n",
    "#print(sample_dict)"
   ]
  },
  {
   "cell_type": "markdown",
   "id": "c1fcf302",
   "metadata": {},
   "source": [
    "# 4.\n",
    "Write a Python program to list of keys from the below dictionary.\n",
    "\tsample_dict = {\n",
    "   \t\t\t\t \"name\": \"Kelly\",\n",
    "   \t\t\t\t \"age\": 25,\n",
    "  \t\t\t\t \"salary\": 8000,\n",
    "   \t\t\t\t \"city\": \"New york\"}\n",
    "\n",
    "\t# Keys to remove\n",
    "\tkeys = [\"name\", \"salary\"]\n"
   ]
  },
  {
   "cell_type": "code",
   "execution_count": 2,
   "id": "59e45617",
   "metadata": {},
   "outputs": [
    {
     "name": "stdout",
     "output_type": "stream",
     "text": [
      "{'age': '25', 'city': 'New York'}\n"
     ]
    }
   ],
   "source": [
    "samp_dict = {\n",
    "    'name':'kelly',\n",
    "    'age': '25',\n",
    "    'salary':'8000',\n",
    "    'city':'New York'\n",
    "}\n",
    "\n",
    "keys = ['name','salary']\n",
    "for k in keys:\n",
    "    samp_dict.pop(k)\n",
    "print(samp_dict)"
   ]
  },
  {
   "cell_type": "markdown",
   "id": "b455c19a",
   "metadata": {},
   "source": [
    "# 5.\n",
    "Write a Python program to check if value 200 exists in the following dictionary.\n",
    "\tsample_dict = {'a': 100, 'b': 200, 'c': 300}\n",
    " \n"
   ]
  },
  {
   "cell_type": "code",
   "execution_count": 8,
   "id": "6fcc7079",
   "metadata": {},
   "outputs": [
    {
     "name": "stdout",
     "output_type": "stream",
     "text": [
      "200 is present\n"
     ]
    }
   ],
   "source": [
    "samp_dict1 = {\n",
    "    'a':100,\n",
    "    'b':200,\n",
    "    'c':300\n",
    "}\n",
    "if 200 in samp_dict1.values():\n",
    "    print('200 is present')\n",
    "else:\n",
    "    print('not present')"
   ]
  },
  {
   "cell_type": "markdown",
   "id": "f4bf3fac",
   "metadata": {},
   "source": [
    "# 6.\n",
    "Write a program to rename a key city to a location in the following dictionary.\n",
    "\tsample_dict = {\t \"name\": \"Kelly\",\n",
    "   \t\t\t\t \"age\": 25,\n",
    "  \t\t\t\t \"salary\": 8000,\n",
    "   \t\t\t\t \"city\": \"New york\"              }\n"
   ]
  },
  {
   "cell_type": "code",
   "execution_count": 10,
   "id": "70de188b",
   "metadata": {},
   "outputs": [
    {
     "name": "stdout",
     "output_type": "stream",
     "text": [
      "{'name': 'kelly', 'age': '25', 'salary': '8000', 'location': 'New York'}\n"
     ]
    }
   ],
   "source": [
    "samp_dict2 = {\n",
    "    'name':'kelly',\n",
    "    'age': '25',\n",
    "    'salary':'8000',\n",
    "    'city':'New York'\n",
    "}\n",
    "\n",
    "samp_dict2['location'] = samp_dict2.pop('city')\n",
    "print(samp_dict2)"
   ]
  },
  {
   "cell_type": "markdown",
   "id": "71c79142",
   "metadata": {},
   "source": [
    "# 7.\n",
    "Write a Python program to change Brad’s salary to 8500 in the following dictionary.\n",
    "\tsample_dict = {\n",
    "  \t\t\t\t  'emp1': {'name': 'Jhon', 'salary': 7500},\n",
    "  \t\t\t\t  'emp2': {'name': 'Emma', 'salary': 8000},\n",
    "  \t\t\t\t  'emp3': {'name': 'Brad', 'salary': 500}\n",
    "\t\t\t        }\n"
   ]
  },
  {
   "cell_type": "code",
   "execution_count": 11,
   "id": "8b4c1d34",
   "metadata": {},
   "outputs": [
    {
     "name": "stdout",
     "output_type": "stream",
     "text": [
      "{'emp1': {'name': 'Jhon', 'salary': 7500}, 'emp2': {'name': 'Emma', 'salary': 8000}, 'emp3': {'name': 'Brad', 'salary': 8500}}\n"
     ]
    }
   ],
   "source": [
    "sample_dict = {\n",
    "'emp1': {'name': 'Jhon', 'salary': 7500},\n",
    "'emp2': {'name': 'Emma', 'salary': 8000},\n",
    "'emp3': {'name': 'Brad', 'salary': 500}\n",
    "  }\n",
    "sample_dict['emp3']['salary'] = 8500\n",
    "print(sample_dict)"
   ]
  },
  {
   "cell_type": "code",
   "execution_count": null,
   "id": "ab6869d4",
   "metadata": {},
   "outputs": [],
   "source": []
  }
 ],
 "metadata": {
  "kernelspec": {
   "display_name": "Python 3 (ipykernel)",
   "language": "python",
   "name": "python3"
  },
  "language_info": {
   "codemirror_mode": {
    "name": "ipython",
    "version": 3
   },
   "file_extension": ".py",
   "mimetype": "text/x-python",
   "name": "python",
   "nbconvert_exporter": "python",
   "pygments_lexer": "ipython3",
   "version": "3.10.9"
  }
 },
 "nbformat": 4,
 "nbformat_minor": 5
}
