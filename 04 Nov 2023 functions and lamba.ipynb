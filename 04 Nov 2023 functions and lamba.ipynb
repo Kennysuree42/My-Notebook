{
 "cells": [
  {
   "cell_type": "markdown",
   "id": "ddae4850",
   "metadata": {},
   "source": [
    "# Python Functions\n",
    "A function is a block of code which only runs when it is called.\n",
    "\n",
    "You can pass data, known as parameters, into a function.\n",
    "\n",
    "A function can return data as a result."
   ]
  },
  {
   "cell_type": "code",
   "execution_count": null,
   "id": "9beb397c",
   "metadata": {},
   "outputs": [],
   "source": [
    "\n",
    "\n",
    "# Syntax\n",
    "\n",
    "def function_name():\n",
    "    statements 1\n",
    "    statements 2\n",
    "    block of code\n",
    "    return value\n"
   ]
  },
  {
   "cell_type": "code",
   "execution_count": 12,
   "id": "f4753ddf",
   "metadata": {},
   "outputs": [
    {
     "name": "stdout",
     "output_type": "stream",
     "text": [
      "this is my new function\n",
      "<class 'str'>\n",
      "this is my new function\n",
      "<class 'function'>\n"
     ]
    }
   ],
   "source": [
    "def function_m():\n",
    "    return ('this is my new function')\n",
    "m = function_m()\n",
    "\n",
    "print(m)\n",
    "\n",
    "print(type(m))\n",
    "\n",
    "print(function_m())\n",
    "\n",
    "print(type(function_m))"
   ]
  },
  {
   "cell_type": "code",
   "execution_count": 17,
   "id": "9214d187",
   "metadata": {},
   "outputs": [
    {
     "name": "stdout",
     "output_type": "stream",
     "text": [
      "function_railways\n",
      "None\n"
     ]
    }
   ],
   "source": [
    "def function1():\n",
    "    print('function_railways')\n",
    "    \n",
    "shikh = function1()\n",
    "print (shikh)"
   ]
  },
  {
   "cell_type": "code",
   "execution_count": 76,
   "id": "68930373",
   "metadata": {},
   "outputs": [
    {
     "name": "stdout",
     "output_type": "stream",
     "text": [
      "Hello Students\n",
      "None\n"
     ]
    }
   ],
   "source": [
    "def my_function3():\n",
    "    print(\"Hello Students\")\n",
    "\n",
    "h = my_function3()\n",
    "print(h)"
   ]
  },
  {
   "cell_type": "code",
   "execution_count": 77,
   "id": "8656c9da",
   "metadata": {},
   "outputs": [
    {
     "name": "stdout",
     "output_type": "stream",
     "text": [
      "Hello Students\n"
     ]
    }
   ],
   "source": [
    "def my_function3():\n",
    "    return(\"Hello Students\")\n",
    "\n",
    "h = my_function3()\n",
    "print(h)"
   ]
  },
  {
   "cell_type": "code",
   "execution_count": 32,
   "id": "962ee650",
   "metadata": {},
   "outputs": [],
   "source": [
    "def function4():\n",
    "    return('hi world!')"
   ]
  },
  {
   "cell_type": "code",
   "execution_count": 24,
   "id": "ba39db57",
   "metadata": {},
   "outputs": [
    {
     "name": "stdout",
     "output_type": "stream",
     "text": [
      "hi world!\n"
     ]
    }
   ],
   "source": [
    "k = function4()\n",
    "print(k)"
   ]
  },
  {
   "cell_type": "markdown",
   "id": "694111d7",
   "metadata": {},
   "source": [
    "# Arguments\n",
    "Information can be passed into functions as arguments.\n",
    "\n",
    "Arguments are specified after the function name, inside the parentheses. You can add as many arguments as you want, just separate them with a comma.\n",
    "\n",
    "The following example has a function with one argument (fname). When the function is called, we pass along a first name, which is used inside the function to print the full name:"
   ]
  },
  {
   "cell_type": "markdown",
   "id": "4a9d82fe",
   "metadata": {},
   "source": [
    "# difference between print and return"
   ]
  },
  {
   "cell_type": "code",
   "execution_count": 87,
   "id": "0296cad9",
   "metadata": {},
   "outputs": [
    {
     "name": "stdout",
     "output_type": "stream",
     "text": [
      "gntkny Mr \n",
      "joshua Mr \n",
      "william Mr \n"
     ]
    }
   ],
   "source": [
    "def emp(fname):\n",
    "    print(fname + ' Mr ')\n",
    "\n",
    "emp('gntkny')\n",
    "emp('joshua')\n",
    "emp('william')"
   ]
  },
  {
   "cell_type": "code",
   "execution_count": 100,
   "id": "3e315e41",
   "metadata": {},
   "outputs": [
    {
     "data": {
      "text/plain": [
       "'william Mr '"
      ]
     },
     "execution_count": 100,
     "metadata": {},
     "output_type": "execute_result"
    }
   ],
   "source": [
    "def emp(fname):\n",
    "    return(fname + ' Mr ')\n",
    "\n",
    "emp('gntkny')\n",
    "emp('joshua')\n",
    "emp('william')       # overrides with the previous arguments"
   ]
  },
  {
   "cell_type": "code",
   "execution_count": 92,
   "id": "f4ee4d12",
   "metadata": {},
   "outputs": [
    {
     "name": "stdout",
     "output_type": "stream",
     "text": [
      "gntkny Mr \n",
      "joshua Mr \n",
      "william Mr \n"
     ]
    }
   ],
   "source": [
    "def emp(fname):\n",
    "    return(fname + ' Mr ')\n",
    "\n",
    "a = emp('gntkny')\n",
    "b = emp('joshua')\n",
    "c = emp('william')\n",
    "print(a)\n",
    "print(b)\n",
    "print(c)\n"
   ]
  },
  {
   "cell_type": "code",
   "execution_count": 98,
   "id": "85a02d3b",
   "metadata": {},
   "outputs": [
    {
     "data": {
      "text/plain": [
       "'kljlkj 001 '"
      ]
     },
     "execution_count": 98,
     "metadata": {},
     "output_type": "execute_result"
    }
   ],
   "source": [
    "def emp(fname):\n",
    "    return(fname + ' 001 ' )\n",
    "emp('kljlkj')"
   ]
  },
  {
   "cell_type": "code",
   "execution_count": null,
   "id": "0c6b18dd",
   "metadata": {},
   "outputs": [],
   "source": []
  }
 ],
 "metadata": {
  "kernelspec": {
   "display_name": "Python 3 (ipykernel)",
   "language": "python",
   "name": "python3"
  },
  "language_info": {
   "codemirror_mode": {
    "name": "ipython",
    "version": 3
   },
   "file_extension": ".py",
   "mimetype": "text/x-python",
   "name": "python",
   "nbconvert_exporter": "python",
   "pygments_lexer": "ipython3",
   "version": "3.10.9"
  }
 },
 "nbformat": 4,
 "nbformat_minor": 5
}
