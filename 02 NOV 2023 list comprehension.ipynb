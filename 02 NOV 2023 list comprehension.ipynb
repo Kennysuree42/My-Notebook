{
 "cells": [
  {
   "cell_type": "code",
   "execution_count": 9,
   "id": "44a6ee47",
   "metadata": {},
   "outputs": [
    {
     "name": "stdout",
     "output_type": "stream",
     "text": [
      "['john123', 'josh453']\n",
      "<class 'list'>\n"
     ]
    }
   ],
   "source": [
    "lista = ['john123','josh453','micheal','william']  # List\n",
    "#print the elements with having '' in list\n",
    "\n",
    "listn = [i for i in lista if '3' in i]\n",
    "print(listn)\n"
   ]
  },
  {
   "cell_type": "code",
   "execution_count": 24,
   "id": "8906a136",
   "metadata": {},
   "outputs": [
    {
     "name": "stdout",
     "output_type": "stream",
     "text": [
      "['LION', 'TIGER', 'GIRRAFFE', 'wild animals']\n"
     ]
    }
   ],
   "source": [
    "list_animals = ['lion','tiger','girraffe','zebra']\n",
    "list_wild = [m.upper() if m != 'zebra' else 'wild animals'for m in list_animals]\n",
    "print(list_wild)"
   ]
  },
  {
   "cell_type": "markdown",
   "id": "d0da73ff",
   "metadata": {},
   "source": [
    "# while condition in list comprehension cannot be possible\n",
    "# it returns invalid syntax"
   ]
  },
  {
   "cell_type": "code",
   "execution_count": 26,
   "id": "e1c3d194",
   "metadata": {},
   "outputs": [
    {
     "ename": "SyntaxError",
     "evalue": "invalid syntax (2776081259.py, line 2)",
     "output_type": "error",
     "traceback": [
      "\u001b[1;36m  Cell \u001b[1;32mIn[26], line 2\u001b[1;36m\u001b[0m\n\u001b[1;33m    list_scent = [i for i in list_flowers while i=='jasmine']\u001b[0m\n\u001b[1;37m                                          ^\u001b[0m\n\u001b[1;31mSyntaxError\u001b[0m\u001b[1;31m:\u001b[0m invalid syntax\n"
     ]
    }
   ],
   "source": [
    "list_flowers = ['roses','marygold','jasmine']\n",
    "list_scent = [i for i in list_flowers while i=='jasmine']\n",
    "print(list_scent)"
   ]
  },
  {
   "cell_type": "code",
   "execution_count": 32,
   "id": "7ee7c31e",
   "metadata": {
    "scrolled": true
   },
   "outputs": [
    {
     "ename": "SyntaxError",
     "evalue": "expected 'else' after 'if' expression (539625699.py, line 2)",
     "output_type": "error",
     "traceback": [
      "\u001b[1;36m  Cell \u001b[1;32mIn[32], line 2\u001b[1;36m\u001b[0m\n\u001b[1;33m    list_domestic = [p if p!== 'pigs' else p == 'cat' for p in list_pets]\u001b[0m\n\u001b[1;37m                     ^\u001b[0m\n\u001b[1;31mSyntaxError\u001b[0m\u001b[1;31m:\u001b[0m expected 'else' after 'if' expression\n"
     ]
    }
   ],
   "source": [
    "list_pets = ['dog','cat','cows','pigs','tiger']\n",
    "list_domestic = [p if p!== 'pigs' elif p == 'cat' for p in list_pets]\n",
    "print(list_domestic)"
   ]
  },
  {
   "cell_type": "code",
   "execution_count": 42,
   "id": "0de9f7b8",
   "metadata": {},
   "outputs": [
    {
     "name": "stdout",
     "output_type": "stream",
     "text": [
      "['no', 'no', 300, 'no']\n"
     ]
    }
   ],
   "source": [
    "list_number = [202,320,300,15]\n",
    "list_2 = [i if i%2 ==0 and i%5==0 and i%3==0 else 'no' for i in list_number]\n",
    "print(list_2)"
   ]
  },
  {
   "cell_type": "markdown",
   "id": "3ccaebf0",
   "metadata": {},
   "source": [
    "# zip()\n",
    " - Definition and Usage The zip() function returns a zip object, which is an iterator of tuples where the first item in each passed iterator is paired together, and then the second item in each passed iterator are paired together etc.\n",
    "\n",
    " - If the passed iterables have different lengths, the iterable    with the least items decides the length of the new iterator.\n",
    "   \n",
    "   \n",
    "   syntax:\n",
    " - zip(iterator1, iterator2, iterator3,....iterator n)"
   ]
  },
  {
   "cell_type": "code",
   "execution_count": 78,
   "id": "dfa836ff",
   "metadata": {},
   "outputs": [
    {
     "name": "stdout",
     "output_type": "stream",
     "text": [
      "((1, 8, 9), (2, 6, 10), (3, 7, 11))\n"
     ]
    }
   ],
   "source": [
    "a= {1,2,3,4,5}\n",
    "b= {6,7,8}\n",
    "c = {9,10,11,12,13,14,15}\n",
    "\n",
    "abc = zip(a,b,c)\n",
    "print(tuple(abc))\n"
   ]
  },
  {
   "cell_type": "code",
   "execution_count": 46,
   "id": "689e77c4",
   "metadata": {},
   "outputs": [
    {
     "name": "stdout",
     "output_type": "stream",
     "text": [
      "<zip object at 0x000001EBFD035B80>\n",
      "((1, 8, 9), (2, 6, 10), (3, 7, 11))\n",
      "<class 'zip'>\n"
     ]
    }
   ],
   "source": [
    "print(tuple(abc))\n",
    "print(type(abc))"
   ]
  },
  {
   "cell_type": "code",
   "execution_count": 80,
   "id": "b97f1274",
   "metadata": {},
   "outputs": [
    {
     "name": "stdout",
     "output_type": "stream",
     "text": [
      "[(1, 4, 9), (2, 5, 10)]\n"
     ]
    }
   ],
   "source": [
    "aa = [1,2]             #list\n",
    "bb = [4,5,6,7,8]\n",
    "cc = [9,10,11,14]\n",
    "adc = zip(aa,bb,cc)\n",
    "print(list(adc))"
   ]
  },
  {
   "cell_type": "code",
   "execution_count": 53,
   "id": "0393dcf5",
   "metadata": {},
   "outputs": [
    {
     "name": "stdout",
     "output_type": "stream",
     "text": [
      "[(1, 2, 4)]\n"
     ]
    }
   ],
   "source": [
    "x = (1,)          #tuple\n",
    "y = (2,3,)\n",
    "z = (4,5,6,)\n",
    "avc = zip(x,y,z)\n",
    "print(list(avc))"
   ]
  },
  {
   "cell_type": "code",
   "execution_count": 59,
   "id": "c243846f",
   "metadata": {},
   "outputs": [
    {
     "name": "stdout",
     "output_type": "stream",
     "text": [
      "[('nbfor', 'pavan', 'liw')]\n"
     ]
    }
   ],
   "source": [
    "j = {'kiran','lower','nbfor','new'}    # set\n",
    "k = {'pavan' ,'bzwada','hyd'}\n",
    "l = {'liw'}\n",
    "huy = zip(j,k,l)\n",
    "print(list(huy))"
   ]
  },
  {
   "cell_type": "code",
   "execution_count": 66,
   "id": "6cfc5cd3",
   "metadata": {},
   "outputs": [
    {
     "name": "stdout",
     "output_type": "stream",
     "text": [
      "[('one', 'two', 'three'), ('i', 'git', 'k')]\n"
     ]
    }
   ],
   "source": [
    "q = {'one':'1','i':'j','q':'v','b':'nbp'}  #dictionary\n",
    "a = {'two':'2','git':'kiran'}\n",
    "z = {'three':'3','k':'l','n':'mn'}\n",
    "  \n",
    "fir = zip(q,a,z)\n",
    "print (list(fir))"
   ]
  },
  {
   "cell_type": "code",
   "execution_count": 79,
   "id": "f75366f9",
   "metadata": {},
   "outputs": [
    {
     "name": "stdout",
     "output_type": "stream",
     "text": [
      "[(1, 3)]\n"
     ]
    }
   ],
   "source": [
    "al = [1,2,3,4]\n",
    "li = [3]\n",
    "lao = zip(al,li)\n",
    "print(list(lao))"
   ]
  },
  {
   "cell_type": "markdown",
   "id": "2c1563de",
   "metadata": {},
   "source": [
    "# enumerator"
   ]
  },
  {
   "cell_type": "code",
   "execution_count": 95,
   "id": "03723274",
   "metadata": {},
   "outputs": [
    {
     "name": "stdout",
     "output_type": "stream",
     "text": [
      "0 kiran meta\n",
      "1 pavan apple\n",
      "2 chinna google\n"
     ]
    }
   ],
   "source": [
    "name_list = ['kiran','pavan','chinna']\n",
    "comp_list = ['meta','apple','google']\n",
    "for i,(name_list,comp_list )in enumerate (zip(name_list,comp_list)):\n",
    "    print(i,name_list,comp_list)"
   ]
  },
  {
   "cell_type": "code",
   "execution_count": null,
   "id": "e2993912",
   "metadata": {},
   "outputs": [],
   "source": [
    "list_india = {'virat':'bat',\n",
    "              'bumrah':'bow'}\n",
    "\n",
    "list_pak = {'afreedi':'bow',\n",
    "            'babar':'bat'}\n"
   ]
  },
  {
   "cell_type": "code",
   "execution_count": 112,
   "id": "0d57daa8",
   "metadata": {},
   "outputs": [
    {
     "name": "stdout",
     "output_type": "stream",
     "text": [
      "{'virat': 'bat', 'bumrah': 'bow'} \n",
      "{'virat': 'bat', 'bumrah': 'bow'} \n"
     ]
    }
   ],
   "source": [
    "for i in list_india.items():\n",
    "    print(f'{list_india} ')\n"
   ]
  },
  {
   "cell_type": "code",
   "execution_count": null,
   "id": "779582de",
   "metadata": {},
   "outputs": [],
   "source": []
  },
  {
   "cell_type": "code",
   "execution_count": 100,
   "id": "5482c6ef",
   "metadata": {},
   "outputs": [
    {
     "ename": "NameError",
     "evalue": "name 'items' is not defined",
     "output_type": "error",
     "traceback": [
      "\u001b[1;31m---------------------------------------------------------------------------\u001b[0m",
      "\u001b[1;31mNameError\u001b[0m                                 Traceback (most recent call last)",
      "Cell \u001b[1;32mIn[100], line 3\u001b[0m\n\u001b[0;32m      1\u001b[0m list_india \u001b[38;5;241m=\u001b[39m {\u001b[38;5;124m'\u001b[39m\u001b[38;5;124mvirat\u001b[39m\u001b[38;5;124m'\u001b[39m:\u001b[38;5;124m'\u001b[39m\u001b[38;5;124mbat\u001b[39m\u001b[38;5;124m'\u001b[39m,\n\u001b[0;32m      2\u001b[0m               \u001b[38;5;124m'\u001b[39m\u001b[38;5;124mbumrah\u001b[39m\u001b[38;5;124m'\u001b[39m:\u001b[38;5;124m'\u001b[39m\u001b[38;5;124mbow\u001b[39m\u001b[38;5;124m'\u001b[39m}\n\u001b[1;32m----> 3\u001b[0m \u001b[38;5;28mprint\u001b[39m(\u001b[43mitems\u001b[49m(list_india))\n\u001b[0;32m      4\u001b[0m list_pak \u001b[38;5;241m=\u001b[39m {\u001b[38;5;124m'\u001b[39m\u001b[38;5;124mafreedi\u001b[39m\u001b[38;5;124m'\u001b[39m:\u001b[38;5;124m'\u001b[39m\u001b[38;5;124mbow\u001b[39m\u001b[38;5;124m'\u001b[39m,\n\u001b[0;32m      5\u001b[0m             \u001b[38;5;124m'\u001b[39m\u001b[38;5;124mbabar\u001b[39m\u001b[38;5;124m'\u001b[39m:\u001b[38;5;124m'\u001b[39m\u001b[38;5;124mbat\u001b[39m\u001b[38;5;124m'\u001b[39m}\n\u001b[0;32m      6\u001b[0m list_new \u001b[38;5;241m=\u001b[39m {}\n",
      "\u001b[1;31mNameError\u001b[0m: name 'items' is not defined"
     ]
    }
   ],
   "source": [
    "list_pak = {'afreedi':'bow',\n",
    "            'babar':'bat'}\n",
    "list_new = {}\n",
    "for i,(list_india,list_pak) in enumerate(zip(list_india,list_pak)):\n",
    "    print(i,list_india,list_pak)"
   ]
  },
  {
   "cell_type": "code",
   "execution_count": null,
   "id": "db7ac4ba",
   "metadata": {},
   "outputs": [],
   "source": [
    "list1 = [1,2]\n",
    "list2 = [3,4]\n"
   ]
  },
  {
   "cell_type": "code",
   "execution_count": null,
   "id": "0bf1ad48",
   "metadata": {},
   "outputs": [],
   "source": []
  },
  {
   "cell_type": "code",
   "execution_count": null,
   "id": "41c0e395",
   "metadata": {},
   "outputs": [],
   "source": []
  },
  {
   "cell_type": "code",
   "execution_count": null,
   "id": "08e85d1f",
   "metadata": {},
   "outputs": [],
   "source": []
  },
  {
   "cell_type": "code",
   "execution_count": 82,
   "id": "0baaf5c0",
   "metadata": {},
   "outputs": [
    {
     "name": "stdout",
     "output_type": "stream",
     "text": [
      "good\n",
      "no\n",
      "no\n"
     ]
    }
   ],
   "source": [
    "    if i =='meta':\n",
    "        print('good')\n",
    "    else:\n",
    "        print('no')"
   ]
  },
  {
   "cell_type": "code",
   "execution_count": null,
   "id": "91329c51",
   "metadata": {},
   "outputs": [],
   "source": []
  },
  {
   "cell_type": "code",
   "execution_count": null,
   "id": "fe4c1d3c",
   "metadata": {},
   "outputs": [],
   "source": []
  },
  {
   "cell_type": "code",
   "execution_count": null,
   "id": "c8dd6f10",
   "metadata": {},
   "outputs": [],
   "source": []
  },
  {
   "cell_type": "code",
   "execution_count": null,
   "id": "59d93b92",
   "metadata": {},
   "outputs": [],
   "source": []
  },
  {
   "cell_type": "code",
   "execution_count": null,
   "id": "94ed158e",
   "metadata": {},
   "outputs": [],
   "source": []
  },
  {
   "cell_type": "code",
   "execution_count": null,
   "id": "2d86da10",
   "metadata": {},
   "outputs": [],
   "source": []
  },
  {
   "cell_type": "code",
   "execution_count": null,
   "id": "11048c96",
   "metadata": {},
   "outputs": [],
   "source": []
  },
  {
   "cell_type": "code",
   "execution_count": null,
   "id": "f52b2a5f",
   "metadata": {},
   "outputs": [],
   "source": []
  },
  {
   "cell_type": "code",
   "execution_count": null,
   "id": "64b58c6b",
   "metadata": {},
   "outputs": [],
   "source": []
  },
  {
   "cell_type": "code",
   "execution_count": 25,
   "id": "742d9307",
   "metadata": {},
   "outputs": [
    {
     "name": "stdout",
     "output_type": "stream",
     "text": [
      "<generator object <genexpr> at 0x000001EBFCE80C10>\n"
     ]
    }
   ],
   "source": [
    "tup_emp = ('shane',25000,'ben',35000,'emile',6000)\n",
    " \n",
    "tup_sal = (g if g>=20000 else 'bad salary'for i in tup_emp)       #doubt\n",
    "\n",
    "print(tup_sal)\n"
   ]
  },
  {
   "cell_type": "code",
   "execution_count": null,
   "id": "b5a618b3",
   "metadata": {},
   "outputs": [],
   "source": []
  }
 ],
 "metadata": {
  "kernelspec": {
   "display_name": "Python 3 (ipykernel)",
   "language": "python",
   "name": "python3"
  },
  "language_info": {
   "codemirror_mode": {
    "name": "ipython",
    "version": 3
   },
   "file_extension": ".py",
   "mimetype": "text/x-python",
   "name": "python",
   "nbconvert_exporter": "python",
   "pygments_lexer": "ipython3",
   "version": "3.10.9"
  }
 },
 "nbformat": 4,
 "nbformat_minor": 5
}
