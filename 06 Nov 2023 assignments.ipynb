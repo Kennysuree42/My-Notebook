{
 "cells": [
  {
   "cell_type": "markdown",
   "id": "c2bf0326",
   "metadata": {},
   "source": [
    "# 1.\n",
    "Write a program to create a function that takes two arguments, name and age, and print their value."
   ]
  },
  {
   "cell_type": "code",
   "execution_count": 32,
   "id": "ae5bd387",
   "metadata": {},
   "outputs": [],
   "source": [
    "def function1(name,age):\n",
    "    print (name + ' is your name and  ', age + ' is your age ')"
   ]
  },
  {
   "cell_type": "code",
   "execution_count": 129,
   "id": "ba9b4d23",
   "metadata": {},
   "outputs": [
    {
     "name": "stdout",
     "output_type": "stream",
     "text": [
      "george is your name and   23 is your age \n",
      "jones is your name and   45 is your age \n",
      "kane is your name and   43 is your age \n",
      "henry is your name and   35 is your age \n"
     ]
    }
   ],
   "source": [
    "function1('george','23')\n",
    "function1('jones','45')\n",
    "function1(name = 'kane',age = '43')\n",
    "function1(age = '35', name = 'henry')"
   ]
  },
  {
   "cell_type": "markdown",
   "id": "4fd8e073",
   "metadata": {},
   "source": [
    "# 2.\n",
    "Write a program to create function func1() to accept a variable length of arguments and print their value.          Note: Create a function in such a way that we can pass any number of arguments to this function, and the function should process them and display each argument’s value."
   ]
  },
  {
   "cell_type": "code",
   "execution_count": 56,
   "id": "983d14cb",
   "metadata": {},
   "outputs": [],
   "source": [
    "def funct1(*value):\n",
    "    for i in value:\n",
    "        print(i)\n",
    "    "
   ]
  },
  {
   "cell_type": "code",
   "execution_count": 57,
   "id": "f5a15472",
   "metadata": {},
   "outputs": [
    {
     "name": "stdout",
     "output_type": "stream",
     "text": [
      "1\n",
      "2\n",
      "3\n",
      "4\n",
      "5\n"
     ]
    }
   ],
   "source": [
    "funct1(1,2,3,4,5)"
   ]
  },
  {
   "cell_type": "markdown",
   "id": "056cbc31",
   "metadata": {},
   "source": [
    "# 3.\n",
    "Write a program to create function calculation() such that it can accept two variables and calculate addition and subtraction. Also, it must return both addition and subtraction in a single return call."
   ]
  },
  {
   "cell_type": "code",
   "execution_count": 48,
   "id": "2cec5c8e",
   "metadata": {},
   "outputs": [],
   "source": [
    "def calculate(num1,num2):\n",
    "    sum = num1 + num2\n",
    "    sub = num1 - num2\n",
    "    print(sum,sub)"
   ]
  },
  {
   "cell_type": "code",
   "execution_count": 49,
   "id": "c1ec42dc",
   "metadata": {},
   "outputs": [
    {
     "name": "stdout",
     "output_type": "stream",
     "text": [
      "12 8\n"
     ]
    }
   ],
   "source": [
    "calculate (10,2)"
   ]
  },
  {
   "cell_type": "markdown",
   "id": "c937d1b5",
   "metadata": {},
   "source": [
    "# 4.\n",
    "Write a program to create a function show_employee() using the following conditions. (Hint: Use default arguments)\n",
    "     -- It should accept the employee’s name and salary and \tdisplay both.\n",
    "     -- If the salary is missing in the function call then assign \t\t\tdefault value 9000 to salary\n"
   ]
  },
  {
   "cell_type": "code",
   "execution_count": 58,
   "id": "a84e130d",
   "metadata": {},
   "outputs": [],
   "source": [
    "def show_employee(name,salary = 9000):\n",
    "    print(f\"Employee Name: {name}\")\n",
    "    print(f\"Employee Salary: {salary}\")"
   ]
  },
  {
   "cell_type": "code",
   "execution_count": 61,
   "id": "13ccba23",
   "metadata": {},
   "outputs": [
    {
     "name": "stdout",
     "output_type": "stream",
     "text": [
      "Employee Name: Joe Biden\n",
      "Employee Salary: 9000\n",
      "Employee Name: George Bush\n",
      "Employee Salary: 16000\n"
     ]
    }
   ],
   "source": [
    "show_employee('Joe Biden')\n",
    "show_employee('George Bush','16000')"
   ]
  },
  {
   "cell_type": "markdown",
   "id": "c2912691",
   "metadata": {},
   "source": [
    "# 5.\n",
    "Write a program to create a recursive function to calculate \tthe sum of numbers from 0 to 10. (A recursive function is a \tfunction that calls itself again and again.)"
   ]
  },
  {
   "cell_type": "code",
   "execution_count": 74,
   "id": "eea55bb7",
   "metadata": {},
   "outputs": [],
   "source": [
    "def sum_numbers(n):\n",
    "    if n == 0:\n",
    "        return 0\n",
    "    else:\n",
    "        return n + sum_numbers(n-1)"
   ]
  },
  {
   "cell_type": "code",
   "execution_count": 75,
   "id": "913656a5",
   "metadata": {},
   "outputs": [
    {
     "name": "stdout",
     "output_type": "stream",
     "text": [
      "55\n"
     ]
    }
   ],
   "source": [
    "result = sum_numbers(10)\n",
    "print(result)"
   ]
  },
  {
   "cell_type": "markdown",
   "id": "1b74922f",
   "metadata": {},
   "source": [
    "# 6.\n",
    "Write a Python function to find the maximum of three \tnumbers."
   ]
  },
  {
   "cell_type": "code",
   "execution_count": 69,
   "id": "4c4b7035",
   "metadata": {},
   "outputs": [],
   "source": [
    "def max(a, b, c):\n",
    "    if a >= b and a>= c:\n",
    "        largest = a\n",
    "    elif b>= a and b>= c:\n",
    "        largest = b\n",
    "    else:\n",
    "        largest = c\n",
    "    return largest\n"
   ]
  },
  {
   "cell_type": "code",
   "execution_count": 70,
   "id": "2f4b9105",
   "metadata": {},
   "outputs": [
    {
     "data": {
      "text/plain": [
       "50"
      ]
     },
     "execution_count": 70,
     "metadata": {},
     "output_type": "execute_result"
    }
   ],
   "source": [
    "max(10, 20, 50)"
   ]
  },
  {
   "cell_type": "markdown",
   "id": "89c21b42",
   "metadata": {},
   "source": [
    "# 7.\n",
    "Write a Python function to sum all the numbers in a list.\n",
    "Sample List : (8, 2, 3, 0, 7)\n",
    "Expected Output : 20\n"
   ]
  },
  {
   "cell_type": "code",
   "execution_count": 71,
   "id": "0043935b",
   "metadata": {},
   "outputs": [],
   "source": [
    "def sum_list(numbers):\n",
    "    total = 0\n",
    "    for num in numbers:\n",
    "        total = total + num\n",
    "    return total"
   ]
  },
  {
   "cell_type": "code",
   "execution_count": 76,
   "id": "cd9b6c82",
   "metadata": {},
   "outputs": [
    {
     "name": "stdout",
     "output_type": "stream",
     "text": [
      "the sum of the numbers in the list is:  20\n"
     ]
    }
   ],
   "source": [
    "numbers = [8,2,3,0,7]\n",
    "result = sum_list(numbers)\n",
    "print(\"the sum of the numbers in the list is: \", result)"
   ]
  },
  {
   "cell_type": "markdown",
   "id": "9d07ae23",
   "metadata": {},
   "source": [
    "# 8.\n",
    "Write a Python program to reverse a string.\n",
    "Sample String : \"1234abcd\"\n",
    "Expected Output : \"dcba4321\"\n"
   ]
  },
  {
   "cell_type": "code",
   "execution_count": 117,
   "id": "ab33c8a7",
   "metadata": {},
   "outputs": [],
   "source": [
    "def reverse_funct(x):\n",
    "    return x[::-1]\n"
   ]
  },
  {
   "cell_type": "code",
   "execution_count": 118,
   "id": "87ef1d4c",
   "metadata": {},
   "outputs": [
    {
     "name": "stdout",
     "output_type": "stream",
     "text": [
      "dcba4321\n"
     ]
    }
   ],
   "source": [
    "reverse_text = reverse_funct('1234abcd')\n",
    "print(reverse_text)"
   ]
  },
  {
   "cell_type": "code",
   "execution_count": 77,
   "id": "42d66f29",
   "metadata": {},
   "outputs": [
    {
     "name": "stdout",
     "output_type": "stream",
     "text": [
      "dcba4321\n"
     ]
    }
   ],
   "source": [
    "text = '1234abcd'[::-1]\n",
    "print(text)"
   ]
  },
  {
   "cell_type": "markdown",
   "id": "a75b26a0",
   "metadata": {},
   "source": [
    "# 9.\n",
    "Write a Python function that accepts a string and counts the \tnumber of upper and lower case letters.\n",
    "Sample String : 'Welcome To Mitraz, Puttaparthi'\n",
    "Expected Output :\n",
    "No. of Upper case characters : 3\n",
    "No. of Lower case Characters : 12\n"
   ]
  },
  {
   "cell_type": "code",
   "execution_count": 106,
   "id": "af6bf1a4",
   "metadata": {},
   "outputs": [
    {
     "name": "stdout",
     "output_type": "stream",
     "text": [
      "False\n"
     ]
    }
   ],
   "source": [
    "string12 = 'Tesla Is The Best Compant In The World @#$%^'\n",
    "print(string12.isupper())"
   ]
  },
  {
   "cell_type": "code",
   "execution_count": null,
   "id": "78176ff7",
   "metadata": {},
   "outputs": [],
   "source": []
  },
  {
   "cell_type": "code",
   "execution_count": 110,
   "id": "59bf6156",
   "metadata": {},
   "outputs": [
    {
     "name": "stdout",
     "output_type": "stream",
     "text": [
      "False\n"
     ]
    }
   ],
   "source": [
    "txt = \"Hello my friends\"\n",
    "\n",
    "x = txt.isupper()\n",
    "\n",
    "print((x))"
   ]
  },
  {
   "cell_type": "code",
   "execution_count": 111,
   "id": "134291d5",
   "metadata": {},
   "outputs": [
    {
     "name": "stdout",
     "output_type": "stream",
     "text": [
      "True\n"
     ]
    }
   ],
   "source": [
    "txt = \"THIS IS NOW!\"\n",
    "\n",
    "x = txt.isupper()\n",
    "\n",
    "print(x)"
   ]
  },
  {
   "cell_type": "code",
   "execution_count": null,
   "id": "166d79de",
   "metadata": {},
   "outputs": [],
   "source": []
  },
  {
   "cell_type": "code",
   "execution_count": null,
   "id": "750c36e6",
   "metadata": {},
   "outputs": [],
   "source": []
  },
  {
   "cell_type": "code",
   "execution_count": null,
   "id": "ce08b145",
   "metadata": {},
   "outputs": [],
   "source": []
  },
  {
   "cell_type": "code",
   "execution_count": null,
   "id": "d3f181f4",
   "metadata": {},
   "outputs": [],
   "source": []
  },
  {
   "cell_type": "code",
   "execution_count": null,
   "id": "26cd90a5",
   "metadata": {},
   "outputs": [],
   "source": []
  },
  {
   "cell_type": "code",
   "execution_count": 122,
   "id": "5c1fc220",
   "metadata": {},
   "outputs": [
    {
     "name": "stdout",
     "output_type": "stream",
     "text": [
      "original string:  Welcome To Mitraz\n",
      "no. of upper characters:  3\n",
      "no. of lower characters:  12\n"
     ]
    }
   ],
   "source": [
    "def string_test(s):\n",
    "    d = {'upper_case':0, 'lower_case':0}\n",
    "    for c in s:\n",
    "        if c.isupper():\n",
    "            d['upper_case']+=1\n",
    "        elif c.islower():\n",
    "            d['lower_case']+=1\n",
    "        \n",
    "    print('original string: ', s)\n",
    "    print('no. of upper characters: ',d['upper_case'])\n",
    "    print('no. of lower characters: ',d['lower_case'])\n",
    "    \n",
    "\n",
    "string_test('Welcome To Mitraz')\n",
    "\n"
   ]
  },
  {
   "cell_type": "code",
   "execution_count": 85,
   "id": "e4b3771d",
   "metadata": {},
   "outputs": [
    {
     "name": "stdout",
     "output_type": "stream",
     "text": [
      "1\n"
     ]
    }
   ],
   "source": [
    "# res=len(['sample_string'])\n",
    "# print(res)"
   ]
  },
  {
   "cell_type": "markdown",
   "id": "46e3df53",
   "metadata": {},
   "source": [
    "# 10.\n",
    "Write a Python program to print the even numbers from a \tgiven list.\n",
    "Sample List : [1, 2, 3, 4, 5, 6, 7, 8, 9]\n",
    "Expected Result : [2, 4, 6, 8]\n"
   ]
  },
  {
   "cell_type": "code",
   "execution_count": 128,
   "id": "78242b1d",
   "metadata": {},
   "outputs": [
    {
     "name": "stdout",
     "output_type": "stream",
     "text": [
      "2\n",
      "4\n",
      "6\n",
      "8\n"
     ]
    }
   ],
   "source": [
    "def my_func(sample_list):\n",
    "    for i in sample_list:\n",
    "        if i % 2 == 0:\n",
    "            print(i)\n",
    "            \n",
    "numbeers = [1,2,3,4,5,6,7,8,9]\n",
    "my_func(numbeers)\n",
    "\n"
   ]
  },
  {
   "cell_type": "code",
   "execution_count": null,
   "id": "3a28dfd6",
   "metadata": {},
   "outputs": [],
   "source": []
  }
 ],
 "metadata": {
  "kernelspec": {
   "display_name": "Python 3 (ipykernel)",
   "language": "python",
   "name": "python3"
  },
  "language_info": {
   "codemirror_mode": {
    "name": "ipython",
    "version": 3
   },
   "file_extension": ".py",
   "mimetype": "text/x-python",
   "name": "python",
   "nbconvert_exporter": "python",
   "pygments_lexer": "ipython3",
   "version": "3.10.9"
  }
 },
 "nbformat": 4,
 "nbformat_minor": 5
}
