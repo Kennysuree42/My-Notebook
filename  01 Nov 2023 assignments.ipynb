{
 "cells": [
  {
   "cell_type": "markdown",
   "id": "940669ab",
   "metadata": {},
   "source": [
    "# 1.\n",
    "Use a loop to display elements from a given list present at odd index \tpositions. [Hint: list slicing]\n",
    "\tGiven:\n",
    "\tmy_list = [10, 20, 30, 40, 50, 60, 70, 80, 90, 100]\n",
    "\tOutput:\n",
    "\t20 40 60 80 100\n"
   ]
  },
  {
   "cell_type": "code",
   "execution_count": 124,
   "id": "611e02e6",
   "metadata": {},
   "outputs": [
    {
     "name": "stdout",
     "output_type": "stream",
     "text": [
      "20\n",
      "40\n",
      "60\n",
      "80\n",
      "100\n",
      "100\n"
     ]
    }
   ],
   "source": [
    "numbers = [10,20,30,40,50,60,70,80,90,100] \n",
    "\n",
    "slice_list = numbers[1::2]\n",
    "\n",
    "for i in slice_list:\n",
    "    print(i) \n",
    "    \n",
    "    \n",
    "#print('the elements at odd positions are above: ')\n",
    "   \n",
    "\n"
   ]
  },
  {
   "cell_type": "markdown",
   "id": "757e1f1a",
   "metadata": {},
   "source": [
    "# 2.\n",
    "Calculate the cube of all numbers from 1 to a given number. Accept \tthe number from user. [Hint: use formula a*a*a]\n",
    "\tGiven:\n",
    "\t\tinput_number = 6\n",
    "\tExpected output:\n",
    "Current Number is : 1  and the cube is 1\n",
    "Current Number is : 2  and the cube is 8\n",
    "Current Number is : 3  and the cube is 27\n",
    "Current Number is : 4  and the cube is 64\n",
    "Current Number is : 5  and the cube is 125\n",
    "\t\tCurrent Number is : 6  and the cube is 21\n"
   ]
  },
  {
   "cell_type": "code",
   "execution_count": 79,
   "id": "b86e16a9",
   "metadata": {},
   "outputs": [
    {
     "name": "stdout",
     "output_type": "stream",
     "text": [
      "enter the number:11\n",
      "the cube for the number is: \n",
      "1\n",
      "the cube for the number is: \n",
      "8\n",
      "the cube for the number is: \n",
      "27\n",
      "the cube for the number is: \n",
      "64\n",
      "the cube for the number is: \n",
      "125\n",
      "the cube for the number is: \n",
      "216\n",
      "the cube for the number is: \n",
      "343\n",
      "the cube for the number is: \n",
      "512\n",
      "the cube for the number is: \n",
      "729\n",
      "the cube for the number is: \n",
      "1000\n",
      "the cube for the number is: \n",
      "1331\n"
     ]
    }
   ],
   "source": [
    "numbs= int(input('enter the number:'))\n",
    "\n",
    "for i in range(1, numbs+1):\n",
    "    cube = i*i*i\n",
    "    print('the cube for the number is: ')\n",
    "    print(cube)\n",
    "\n",
    "#print('cube of number',numbs) "
   ]
  },
  {
   "cell_type": "code",
   "execution_count": 67,
   "id": "1d289d47",
   "metadata": {},
   "outputs": [
    {
     "name": "stdout",
     "output_type": "stream",
     "text": [
      "5 125\n"
     ]
    }
   ],
   "source": [
    "print(numbs,cube)\n",
    "\n",
    "    "
   ]
  },
  {
   "cell_type": "code",
   "execution_count": 62,
   "id": "108838a8",
   "metadata": {},
   "outputs": [
    {
     "ename": "SyntaxError",
     "evalue": "invalid syntax (325246140.py, line 3)",
     "output_type": "error",
     "traceback": [
      "\u001b[1;36m  Cell \u001b[1;32mIn[62], line 3\u001b[1;36m\u001b[0m\n\u001b[1;33m    cube = number i*i*i\u001b[0m\n\u001b[1;37m                  ^\u001b[0m\n\u001b[1;31mSyntaxError\u001b[0m\u001b[1;31m:\u001b[0m invalid syntax\n"
     ]
    }
   ],
   "source": [
    "number = 1\n",
    "while number <= 5:\n",
    "    cube = i*i*i\n",
    "    print('the cube of',number,cube)\n",
    "    number = number +1"
   ]
  },
  {
   "cell_type": "code",
   "execution_count": null,
   "id": "9e2a5b2b",
   "metadata": {},
   "outputs": [],
   "source": []
  },
  {
   "cell_type": "markdown",
   "id": "0186d116",
   "metadata": {},
   "source": [
    "# 3. \n",
    "Write a program to accept a number from a user and calculate the sum \tof all numbers from 1 to a given number\n",
    "\tEx: If the user entered 6 the output should be 21 (1+2+3+4+5+6)\n"
   ]
  },
  {
   "cell_type": "code",
   "execution_count": 44,
   "id": "e8c3d919",
   "metadata": {},
   "outputs": [
    {
     "name": "stdout",
     "output_type": "stream",
     "text": [
      "enter the no. please:10\n",
      "the sum of all values in your number:  55\n"
     ]
    }
   ],
   "source": [
    "num = int(input('enter the no. please:'))\n",
    "sum_of_num = 0\n",
    "for i in range(1, num+1):\n",
    "    sum_of_num += i\n",
    "print('the sum of all values in your number: ',sum_of_num)\n",
    "    "
   ]
  },
  {
   "cell_type": "markdown",
   "id": "0ec4b2dd",
   "metadata": {},
   "source": [
    "# 4.\n",
    "Write a program to display only those numbers from a list that satisfy \tthe following conditions.\n",
    "  •\tThe number must be divisible by five\n",
    "  •\tIf the number is greater than 150, then skip it and move to the next number\n",
    "  •\tIf the number is greater than 500, then stop the loop\n",
    "\tGiven:\n",
    "\t\tnumbers = [12, 75, 150, 180, 145, 525, 50]\n",
    "\tOutput:\n",
    "\t\t75\n",
    "\t\t150\n",
    "\t\t145\n"
   ]
  },
  {
   "cell_type": "code",
   "execution_count": 129,
   "id": "b294297e",
   "metadata": {},
   "outputs": [
    {
     "name": "stdout",
     "output_type": "stream",
     "text": [
      "75\n",
      "150\n",
      "145\n",
      "50\n"
     ]
    }
   ],
   "source": [
    "numbers = [12,75,150,180,145,525,652,50]\n",
    "for num in numbers:\n",
    "    if num >  150:\n",
    "        continue\n",
    "    elif num > 500:\n",
    "            break\n",
    "    elif num% 5==0:\n",
    "        print(num)\n",
    " "
   ]
  },
  {
   "cell_type": "markdown",
   "id": "3234191e",
   "metadata": {},
   "source": [
    "# 5.\n",
    "Write a program to print the following number pattern using a loop.\n",
    "\t1 \n",
    "\t1 2 \n",
    "\t1 2 3 \n",
    "\t1 2 3 4 \n",
    "\t1 2 3 4 5\n"
   ]
  },
  {
   "cell_type": "code",
   "execution_count": 116,
   "id": "95a0d0fe",
   "metadata": {},
   "outputs": [
    {
     "name": "stdout",
     "output_type": "stream",
     "text": [
      "\n",
      "1 \n",
      "1 2 \n",
      "1 2 3 \n",
      "1 2 3 4 \n",
      "1 2 3 4 5 \n"
     ]
    }
   ],
   "source": [
    "#num = int(input('enter the number:'))\n",
    "num = 5\n",
    "for i in range(num+1):\n",
    "    for j in range(1,i+1):\n",
    "        print(j,end=' ')\n",
    "    print()\n",
    "    \n",
    "        "
   ]
  },
  {
   "cell_type": "code",
   "execution_count": null,
   "id": "0169fbfb",
   "metadata": {},
   "outputs": [],
   "source": []
  },
  {
   "cell_type": "code",
   "execution_count": null,
   "id": "00bf70d2",
   "metadata": {},
   "outputs": [],
   "source": []
  }
 ],
 "metadata": {
  "kernelspec": {
   "display_name": "Python 3 (ipykernel)",
   "language": "python",
   "name": "python3"
  },
  "language_info": {
   "codemirror_mode": {
    "name": "ipython",
    "version": 3
   },
   "file_extension": ".py",
   "mimetype": "text/x-python",
   "name": "python",
   "nbconvert_exporter": "python",
   "pygments_lexer": "ipython3",
   "version": "3.10.9"
  }
 },
 "nbformat": 4,
 "nbformat_minor": 5
}
