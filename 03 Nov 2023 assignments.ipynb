{
 "cells": [
  {
   "cell_type": "markdown",
   "id": "1a1ff3c3",
   "metadata": {},
   "source": [
    "# list comprehensions"
   ]
  },
  {
   "cell_type": "markdown",
   "id": "4af12d79",
   "metadata": {},
   "source": [
    "# 1\n",
    "Given a list of numbers, remove all odd numbers from the list numbers = [3,5,45,97,32,22,10,19,39,43]"
   ]
  },
  {
   "cell_type": "code",
   "execution_count": 7,
   "id": "931e59d1",
   "metadata": {},
   "outputs": [
    {
     "name": "stdout",
     "output_type": "stream",
     "text": [
      "[3, 5, 45, 97, 19, 39, 43]\n"
     ]
    }
   ],
   "source": [
    "numbers = [3,5,45,97,32,22,10,19,39,43]\n",
    "new_list = [i  for i in numbers if i % 2!= 0]\n",
    "print(new_list)"
   ]
  },
  {
   "cell_type": "code",
   "execution_count": 4,
   "id": "e599de9f",
   "metadata": {},
   "outputs": [
    {
     "name": "stdout",
     "output_type": "stream",
     "text": [
      "['odd', 2, 'odd', 4, 'odd', 6, 'odd', 8, 'odd']\n"
     ]
    }
   ],
   "source": [
    "numbers = [1, 2, 3, 4, 5, 6, 7, 8, 9]\n",
    "\n",
    "result = [x if x % 2 == 0 else 'odd' if x % 2 != 0 else 'unknown' for x in numbers]\n",
    "\n",
    "print(result)"
   ]
  },
  {
   "cell_type": "code",
   "execution_count": 8,
   "id": "6f2b7798",
   "metadata": {},
   "outputs": [
    {
     "name": "stdout",
     "output_type": "stream",
     "text": [
      "[1, 2, 3, 4, 5, 6, 7, 8, 9]\n"
     ]
    }
   ],
   "source": [
    "matrix = [[1, 2, 3], [4, 5, 6], [7, 8, 9]]\n",
    "\n",
    "# Using nested list comprehensions to flatten the matrix\n",
    "flattened = [value for row in matrix for value in row]\n",
    "\n",
    "print(flattened)\n"
   ]
  },
  {
   "cell_type": "markdown",
   "id": "68a92f61",
   "metadata": {},
   "source": [
    "# 2.\n",
    "Find all of the numbers from 1-1000 that are divisible by 7"
   ]
  },
  {
   "cell_type": "code",
   "execution_count": 121,
   "id": "03120eed",
   "metadata": {
    "scrolled": true
   },
   "outputs": [
    {
     "name": "stdout",
     "output_type": "stream",
     "text": [
      "[7, 14, 21, 28, 35, 42, 49, 56, 63, 70, 77, 84, 91, 98, 105, 112, 119, 126, 133, 140, 147, 154, 161, 168, 175, 182, 189, 196, 203, 210, 217, 224, 231, 238, 245, 252, 259, 266, 273, 280, 287, 294, 301, 308, 315, 322, 329, 336, 343, 350, 357, 364, 371, 378, 385, 392, 399, 406, 413, 420, 427, 434, 441, 448, 455, 462, 469, 476, 483, 490, 497, 504, 511, 518, 525, 532, 539, 546, 553, 560, 567, 574, 581, 588, 595, 602, 609, 616, 623, 630, 637, 644, 651, 658, 665, 672, 679, 686, 693, 700, 707, 714, 721, 728, 735, 742, 749, 756, 763, 770, 777, 784, 791, 798, 805, 812, 819, 826, 833, 840, 847, 854, 861, 868, 875, 882, 889, 896, 903, 910, 917, 924, 931, 938, 945, 952, 959, 966, 973, 980, 987, 994]\n"
     ]
    }
   ],
   "source": [
    "list = [i for i in range(1,1000) if i%7 == 0]\n",
    "print(list)"
   ]
  },
  {
   "cell_type": "markdown",
   "id": "5efbe087",
   "metadata": {},
   "source": [
    "# 3.\n",
    "# Count the number of spaces in a string\n"
   ]
  },
  {
   "cell_type": "code",
   "execution_count": 125,
   "id": "14bf717d",
   "metadata": {},
   "outputs": [
    {
     "name": "stdout",
     "output_type": "stream",
     "text": [
      "[' ', ' ', ' ', ' ', ' ', ' ', ' ', ' ']\n",
      "8\n"
     ]
    }
   ],
   "source": [
    "string = 'he is going to the school by bus daily'\n",
    "new_string = [i for i in string if i == ' ']\n",
    "print(new_string)\n",
    "print(len(new_string))"
   ]
  },
  {
   "cell_type": "markdown",
   "id": "1a548d00",
   "metadata": {},
   "source": [
    "# 4.\n",
    "# Get the index and the value as a tuple for items in the list “hi”, 4, 8.99, ‘apple’, (‘t,b’,’n’). Result would look like (index, value), (index, value)"
   ]
  },
  {
   "cell_type": "code",
   "execution_count": 2,
   "id": "44f6ff8c",
   "metadata": {},
   "outputs": [
    {
     "name": "stdout",
     "output_type": "stream",
     "text": [
      "[(0, 'hi'), (1, 4), (2, 8.99), (3, 'apple'), (4, ('t,b', 'n'))]\n"
     ]
    }
   ],
   "source": [
    "list = ['hi',4,8.99,'apple',('t,b','n')]\n",
    "list_n = [i for i in enumerate(list)]\n",
    "print(list_n)"
   ]
  },
  {
   "cell_type": "markdown",
   "id": "ea0491fe",
   "metadata": {},
   "source": [
    "# 5.\n",
    "Find all of the words in a string that are less than 4 letters [Hint: Use split() to get the words from string]"
   ]
  },
  {
   "cell_type": "code",
   "execution_count": 133,
   "id": "109278dd",
   "metadata": {},
   "outputs": [
    {
     "name": "stdout",
     "output_type": "stream",
     "text": [
      "['is', 'a', 'and', 'it', 'has', 'and']\n"
     ]
    }
   ],
   "source": [
    "string = 'india is a more diverse country and it has different cultures and customs'\n",
    "new = [ i for i in string.split(' ') if len(i)<4]\n",
    "print(new)"
   ]
  },
  {
   "cell_type": "markdown",
   "id": "9b8487ee",
   "metadata": {},
   "source": [
    "# # 1.\n",
    "# Write a Python program that iterates the integers from 1 to 50. For multiples of three print \"Three\" instead of the number and for multiples of five print \"Five\". For numbers that are multiples of three and five, print \"ThreeFive\"."
   ]
  },
  {
   "cell_type": "code",
   "execution_count": 4,
   "id": "72c0a734",
   "metadata": {},
   "outputs": [
    {
     "name": "stdout",
     "output_type": "stream",
     "text": [
      "input a range: 10\n",
      "0 multiple of 3\n",
      "not the multiples of 3 & 5\n",
      "not the multiples of 3 & 5\n",
      "3 multiple of 3\n",
      "not the multiples of 3 & 5\n",
      "5 multiple of 5\n",
      "6 multiple of 3\n",
      "not the multiples of 3 & 5\n",
      "not the multiples of 3 & 5\n",
      "9 multiple of 3\n",
      "10 multiple of 5\n"
     ]
    }
   ],
   "source": [
    "num = (int(input('input a range: ')))\n",
    "for i in range(num+1):\n",
    "    if i%3 == 0:\n",
    "        print(i,'multiple of 3')\n",
    "    elif i%5 == 0:\n",
    "        print(i,'multiple of 5')\n",
    "    elif i%3 == 0 and i%5 == 0:\n",
    "        print(i,'the multiple of 3 & 5')\n",
    "    else:\n",
    "        print('not the multiples of 3 & 5')\n",
    "        "
   ]
  },
  {
   "cell_type": "markdown",
   "id": "998d5bbe",
   "metadata": {},
   "source": [
    "# 3.\n",
    "# Write a python for loop to sort the numbers in a list in descending order"
   ]
  },
  {
   "cell_type": "code",
   "execution_count": 127,
   "id": "df289ca6",
   "metadata": {},
   "outputs": [
    {
     "name": "stdout",
     "output_type": "stream",
     "text": [
      "[13, 9, 7, 6, 5, 1]\n"
     ]
    }
   ],
   "source": [
    "num=[1,9,13,7,5,6]\n",
    "temp=0\n",
    "for i in range(len(num)):\n",
    "    for j in range(i+1,len(num)) :\n",
    "        if num[i]<num[j]:\n",
    "            temp=num[i]\n",
    "            num[i]=num[j]\n",
    "            num[j]=temp\n",
    "print(num)"
   ]
  },
  {
   "cell_type": "markdown",
   "id": "f6c6fb37",
   "metadata": {},
   "source": [
    "# 2.\n",
    "# Write a Python program that accepts a string and calculates the number of digits and letters."
   ]
  },
  {
   "cell_type": "code",
   "execution_count": 129,
   "id": "2054f7f2",
   "metadata": {},
   "outputs": [
    {
     "name": "stdout",
     "output_type": "stream",
     "text": [
      "letter 5\n",
      "digit 6\n"
     ]
    }
   ],
   "source": [
    "a='kiran123435'\n",
    "l=0\n",
    "d=0\n",
    "for i in a:\n",
    "    if i.isalpha():\n",
    "        l=l+1\n",
    "    if i.isdigit():\n",
    "        d=d+1\n",
    "print('letter',l)\n",
    "print('digit',d)"
   ]
  },
  {
   "cell_type": "markdown",
   "id": "046f91de",
   "metadata": {},
   "source": [
    "# 4.\n",
    "# Write a program to find a factorial of a number accepted from the user.\n",
    "\n",
    "\n"
   ]
  },
  {
   "cell_type": "code",
   "execution_count": 3,
   "id": "68822b23",
   "metadata": {},
   "outputs": [
    {
     "name": "stdout",
     "output_type": "stream",
     "text": [
      "enter your number4\n",
      "1\n",
      "2\n",
      "6\n",
      "24\n"
     ]
    }
   ],
   "source": [
    "num = int(input('enter your number'))\n",
    "fact = 1\n",
    "count = 0\n",
    "for i in range(1,num+1):\n",
    "    fact = fact*i\n",
    "    print(fact)"
   ]
  },
  {
   "cell_type": "markdown",
   "id": "100ddaf6",
   "metadata": {},
   "source": [
    "# 5.\n",
    "# Write a program to display the product of the digits of a number accepted from the user."
   ]
  },
  {
   "cell_type": "code",
   "execution_count": 8,
   "id": "4929ddb4",
   "metadata": {},
   "outputs": [
    {
     "name": "stdout",
     "output_type": "stream",
     "text": [
      "enter your number10\n",
      "0\n"
     ]
    }
   ],
   "source": [
    "num = int(input('enter your number'))\n",
    "n = num\n",
    "product = 1\n",
    "while n!= 0:\n",
    "    rem = n %10\n",
    "    product = product *rem\n",
    "    n =n//10\n",
    "print(product)\n"
   ]
  },
  {
   "cell_type": "markdown",
   "id": "a22757ac",
   "metadata": {},
   "source": [
    "# 6.\n",
    "#Write a program to display all the numbers which are divisible by 11 but not by 2 between 100 to 500"
   ]
  },
  {
   "cell_type": "code",
   "execution_count": 10,
   "id": "1e9bcc6e",
   "metadata": {},
   "outputs": [
    {
     "name": "stdout",
     "output_type": "stream",
     "text": [
      "121 143 165 187 209 231 253 275 297 319 341 363 385 407 429 451 473 495 "
     ]
    }
   ],
   "source": [
    "for num in range(100,500+1):\n",
    "    if num% 11 == 0 and num %2!= 0:\n",
    "        print(num,end = ' ')\n",
    "        "
   ]
  },
  {
   "cell_type": "code",
   "execution_count": null,
   "id": "15b3154c",
   "metadata": {},
   "outputs": [],
   "source": []
  },
  {
   "cell_type": "code",
   "execution_count": null,
   "id": "076ca1d2",
   "metadata": {},
   "outputs": [],
   "source": [
    "numbers = [1, 2, 3, 4, 5, 6, 7, 8, 9]\n",
    "\n",
    "result = [x if x % 2 == 0 else 'odd' if x % 2 != 0 else 'unknown' for x in numbers]\n",
    "\n",
    "print(result)"
   ]
  },
  {
   "cell_type": "code",
   "execution_count": null,
   "id": "67523b8e",
   "metadata": {},
   "outputs": [],
   "source": []
  },
  {
   "cell_type": "markdown",
   "id": "f3d8aeb1",
   "metadata": {},
   "source": [
    "# Definition and Usage\n",
    "# The join() method takes all items in an iterable and joins them into one string.\n",
    "\n",
    "# A string must be specified as the separator."
   ]
  },
  {
   "cell_type": "code",
   "execution_count": 6,
   "id": "644e68f7",
   "metadata": {},
   "outputs": [
    {
     "name": "stdout",
     "output_type": "stream",
     "text": [
      "nameTESTcountry\n"
     ]
    }
   ],
   "source": [
    "myDict = {\"name\": \"John\", \"country\": \"Norway\"}\n",
    "mySeparator = \"TEST\"\n",
    "\n",
    "x = mySeparator.join(myDict)\n",
    "\n",
    "print(x)"
   ]
  },
  {
   "cell_type": "code",
   "execution_count": 4,
   "id": "e2b6dc95",
   "metadata": {},
   "outputs": [
    {
     "name": "stdout",
     "output_type": "stream",
     "text": [
      "*\n",
      "* *\n",
      "* * *\n",
      "* * * *\n",
      "* * * * *\n"
     ]
    }
   ],
   "source": [
    "n = 5  # Number of rows\n",
    "\n",
    "\n",
    "pattern = [' '.join(['*' for _ in range(i)]) for i in range(1, n + 1)]\n",
    "\n",
    "\n",
    "print('\\n'.join(pattern))"
   ]
  },
  {
   "cell_type": "code",
   "execution_count": null,
   "id": "343014be",
   "metadata": {},
   "outputs": [],
   "source": []
  },
  {
   "cell_type": "code",
   "execution_count": null,
   "id": "56720774",
   "metadata": {},
   "outputs": [],
   "source": []
  }
 ],
 "metadata": {
  "kernelspec": {
   "display_name": "Python 3 (ipykernel)",
   "language": "python",
   "name": "python3"
  },
  "language_info": {
   "codemirror_mode": {
    "name": "ipython",
    "version": 3
   },
   "file_extension": ".py",
   "mimetype": "text/x-python",
   "name": "python",
   "nbconvert_exporter": "python",
   "pygments_lexer": "ipython3",
   "version": "3.10.9"
  }
 },
 "nbformat": 4,
 "nbformat_minor": 5
}
